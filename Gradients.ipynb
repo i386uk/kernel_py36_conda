{
 "cells": [
  {
   "cell_type": "markdown",
   "metadata": {},
   "source": [
    "# Gradients"
   ]
  },
  {
   "cell_type": "markdown",
   "metadata": {},
   "source": [
    "## 1 Background\n",
    "### Distance and Velocity\n",
    "\n",
    "Imagine a turtle is moving on a stright road. Its position can be written as a function of time $x(t)$. How can we know if the turtle is overspeed? We need calculate its velocity, in other words, the gradient of function $x(t)$. "
   ]
  },
  {
   "cell_type": "markdown",
   "metadata": {},
   "source": [
    "## 2 Linear Function\n",
    "### 2.1 Simple example\n",
    "We start by looking at the linear function, in the form of $y = kx + b$. \n",
    "                                                                                              "
   ]
  },
  {
   "cell_type": "code",
   "execution_count": 4,
   "metadata": {},
   "outputs": [
    {
     "data": {
      "text/html": [
       "\n",
       "    <div class=\"bk-root\">\n",
       "        <a href=\"https://bokeh.pydata.org\" target=\"_blank\" class=\"bk-logo bk-logo-small bk-logo-notebook\"></a>\n",
       "        <span id=\"1004\">Loading BokehJS ...</span>\n",
       "    </div>"
      ]
     },
     "metadata": {},
     "output_type": "display_data"
    },
    {
     "data": {
      "application/javascript": [
       "\n",
       "(function(root) {\n",
       "  function now() {\n",
       "    return new Date();\n",
       "  }\n",
       "\n",
       "  var force = true;\n",
       "\n",
       "  if (typeof (root._bokeh_onload_callbacks) === \"undefined\" || force === true) {\n",
       "    root._bokeh_onload_callbacks = [];\n",
       "    root._bokeh_is_loading = undefined;\n",
       "  }\n",
       "\n",
       "  var JS_MIME_TYPE = 'application/javascript';\n",
       "  var HTML_MIME_TYPE = 'text/html';\n",
       "  var EXEC_MIME_TYPE = 'application/vnd.bokehjs_exec.v0+json';\n",
       "  var CLASS_NAME = 'output_bokeh rendered_html';\n",
       "\n",
       "  /**\n",
       "   * Render data to the DOM node\n",
       "   */\n",
       "  function render(props, node) {\n",
       "    var script = document.createElement(\"script\");\n",
       "    node.appendChild(script);\n",
       "  }\n",
       "\n",
       "  /**\n",
       "   * Handle when an output is cleared or removed\n",
       "   */\n",
       "  function handleClearOutput(event, handle) {\n",
       "    var cell = handle.cell;\n",
       "\n",
       "    var id = cell.output_area._bokeh_element_id;\n",
       "    var server_id = cell.output_area._bokeh_server_id;\n",
       "    // Clean up Bokeh references\n",
       "    if (id != null && id in Bokeh.index) {\n",
       "      Bokeh.index[id].model.document.clear();\n",
       "      delete Bokeh.index[id];\n",
       "    }\n",
       "\n",
       "    if (server_id !== undefined) {\n",
       "      // Clean up Bokeh references\n",
       "      var cmd = \"from bokeh.io.state import curstate; print(curstate().uuid_to_server['\" + server_id + \"'].get_sessions()[0].document.roots[0]._id)\";\n",
       "      cell.notebook.kernel.execute(cmd, {\n",
       "        iopub: {\n",
       "          output: function(msg) {\n",
       "            var id = msg.content.text.trim();\n",
       "            if (id in Bokeh.index) {\n",
       "              Bokeh.index[id].model.document.clear();\n",
       "              delete Bokeh.index[id];\n",
       "            }\n",
       "          }\n",
       "        }\n",
       "      });\n",
       "      // Destroy server and session\n",
       "      var cmd = \"import bokeh.io.notebook as ion; ion.destroy_server('\" + server_id + \"')\";\n",
       "      cell.notebook.kernel.execute(cmd);\n",
       "    }\n",
       "  }\n",
       "\n",
       "  /**\n",
       "   * Handle when a new output is added\n",
       "   */\n",
       "  function handleAddOutput(event, handle) {\n",
       "    var output_area = handle.output_area;\n",
       "    var output = handle.output;\n",
       "\n",
       "    // limit handleAddOutput to display_data with EXEC_MIME_TYPE content only\n",
       "    if ((output.output_type != \"display_data\") || (!output.data.hasOwnProperty(EXEC_MIME_TYPE))) {\n",
       "      return\n",
       "    }\n",
       "\n",
       "    var toinsert = output_area.element.find(\".\" + CLASS_NAME.split(' ')[0]);\n",
       "\n",
       "    if (output.metadata[EXEC_MIME_TYPE][\"id\"] !== undefined) {\n",
       "      toinsert[toinsert.length - 1].firstChild.textContent = output.data[JS_MIME_TYPE];\n",
       "      // store reference to embed id on output_area\n",
       "      output_area._bokeh_element_id = output.metadata[EXEC_MIME_TYPE][\"id\"];\n",
       "    }\n",
       "    if (output.metadata[EXEC_MIME_TYPE][\"server_id\"] !== undefined) {\n",
       "      var bk_div = document.createElement(\"div\");\n",
       "      bk_div.innerHTML = output.data[HTML_MIME_TYPE];\n",
       "      var script_attrs = bk_div.children[0].attributes;\n",
       "      for (var i = 0; i < script_attrs.length; i++) {\n",
       "        toinsert[toinsert.length - 1].firstChild.setAttribute(script_attrs[i].name, script_attrs[i].value);\n",
       "      }\n",
       "      // store reference to server id on output_area\n",
       "      output_area._bokeh_server_id = output.metadata[EXEC_MIME_TYPE][\"server_id\"];\n",
       "    }\n",
       "  }\n",
       "\n",
       "  function register_renderer(events, OutputArea) {\n",
       "\n",
       "    function append_mime(data, metadata, element) {\n",
       "      // create a DOM node to render to\n",
       "      var toinsert = this.create_output_subarea(\n",
       "        metadata,\n",
       "        CLASS_NAME,\n",
       "        EXEC_MIME_TYPE\n",
       "      );\n",
       "      this.keyboard_manager.register_events(toinsert);\n",
       "      // Render to node\n",
       "      var props = {data: data, metadata: metadata[EXEC_MIME_TYPE]};\n",
       "      render(props, toinsert[toinsert.length - 1]);\n",
       "      element.append(toinsert);\n",
       "      return toinsert\n",
       "    }\n",
       "\n",
       "    /* Handle when an output is cleared or removed */\n",
       "    events.on('clear_output.CodeCell', handleClearOutput);\n",
       "    events.on('delete.Cell', handleClearOutput);\n",
       "\n",
       "    /* Handle when a new output is added */\n",
       "    events.on('output_added.OutputArea', handleAddOutput);\n",
       "\n",
       "    /**\n",
       "     * Register the mime type and append_mime function with output_area\n",
       "     */\n",
       "    OutputArea.prototype.register_mime_type(EXEC_MIME_TYPE, append_mime, {\n",
       "      /* Is output safe? */\n",
       "      safe: true,\n",
       "      /* Index of renderer in `output_area.display_order` */\n",
       "      index: 0\n",
       "    });\n",
       "  }\n",
       "\n",
       "  // register the mime type if in Jupyter Notebook environment and previously unregistered\n",
       "  if (root.Jupyter !== undefined) {\n",
       "    var events = require('base/js/events');\n",
       "    var OutputArea = require('notebook/js/outputarea').OutputArea;\n",
       "\n",
       "    if (OutputArea.prototype.mime_types().indexOf(EXEC_MIME_TYPE) == -1) {\n",
       "      register_renderer(events, OutputArea);\n",
       "    }\n",
       "  }\n",
       "\n",
       "  \n",
       "  if (typeof (root._bokeh_timeout) === \"undefined\" || force === true) {\n",
       "    root._bokeh_timeout = Date.now() + 5000;\n",
       "    root._bokeh_failed_load = false;\n",
       "  }\n",
       "\n",
       "  var NB_LOAD_WARNING = {'data': {'text/html':\n",
       "     \"<div style='background-color: #fdd'>\\n\"+\n",
       "     \"<p>\\n\"+\n",
       "     \"BokehJS does not appear to have successfully loaded. If loading BokehJS from CDN, this \\n\"+\n",
       "     \"may be due to a slow or bad network connection. Possible fixes:\\n\"+\n",
       "     \"</p>\\n\"+\n",
       "     \"<ul>\\n\"+\n",
       "     \"<li>re-rerun `output_notebook()` to attempt to load from CDN again, or</li>\\n\"+\n",
       "     \"<li>use INLINE resources instead, as so:</li>\\n\"+\n",
       "     \"</ul>\\n\"+\n",
       "     \"<code>\\n\"+\n",
       "     \"from bokeh.resources import INLINE\\n\"+\n",
       "     \"output_notebook(resources=INLINE)\\n\"+\n",
       "     \"</code>\\n\"+\n",
       "     \"</div>\"}};\n",
       "\n",
       "  function display_loaded() {\n",
       "    var el = document.getElementById(\"1004\");\n",
       "    if (el != null) {\n",
       "      el.textContent = \"BokehJS is loading...\";\n",
       "    }\n",
       "    if (root.Bokeh !== undefined) {\n",
       "      if (el != null) {\n",
       "        el.textContent = \"BokehJS \" + root.Bokeh.version + \" successfully loaded.\";\n",
       "      }\n",
       "    } else if (Date.now() < root._bokeh_timeout) {\n",
       "      setTimeout(display_loaded, 100)\n",
       "    }\n",
       "  }\n",
       "\n",
       "\n",
       "  function run_callbacks() {\n",
       "    try {\n",
       "      root._bokeh_onload_callbacks.forEach(function(callback) { callback() });\n",
       "    }\n",
       "    finally {\n",
       "      delete root._bokeh_onload_callbacks\n",
       "    }\n",
       "    console.info(\"Bokeh: all callbacks have finished\");\n",
       "  }\n",
       "\n",
       "  function load_libs(js_urls, callback) {\n",
       "    root._bokeh_onload_callbacks.push(callback);\n",
       "    if (root._bokeh_is_loading > 0) {\n",
       "      console.log(\"Bokeh: BokehJS is being loaded, scheduling callback at\", now());\n",
       "      return null;\n",
       "    }\n",
       "    if (js_urls == null || js_urls.length === 0) {\n",
       "      run_callbacks();\n",
       "      return null;\n",
       "    }\n",
       "    console.log(\"Bokeh: BokehJS not loaded, scheduling load and callback at\", now());\n",
       "    root._bokeh_is_loading = js_urls.length;\n",
       "    for (var i = 0; i < js_urls.length; i++) {\n",
       "      var url = js_urls[i];\n",
       "      var s = document.createElement('script');\n",
       "      s.src = url;\n",
       "      s.async = false;\n",
       "      s.onreadystatechange = s.onload = function() {\n",
       "        root._bokeh_is_loading--;\n",
       "        if (root._bokeh_is_loading === 0) {\n",
       "          console.log(\"Bokeh: all BokehJS libraries loaded\");\n",
       "          run_callbacks()\n",
       "        }\n",
       "      };\n",
       "      s.onerror = function() {\n",
       "        console.warn(\"failed to load library \" + url);\n",
       "      };\n",
       "      console.log(\"Bokeh: injecting script tag for BokehJS library: \", url);\n",
       "      document.getElementsByTagName(\"head\")[0].appendChild(s);\n",
       "    }\n",
       "  };var element = document.getElementById(\"1004\");\n",
       "  if (element == null) {\n",
       "    console.log(\"Bokeh: ERROR: autoload.js configured with elementid '1004' but no matching script tag was found. \")\n",
       "    return false;\n",
       "  }\n",
       "\n",
       "  var js_urls = [\"https://cdn.pydata.org/bokeh/release/bokeh-1.0.1.min.js\", \"https://cdn.pydata.org/bokeh/release/bokeh-widgets-1.0.1.min.js\", \"https://cdn.pydata.org/bokeh/release/bokeh-tables-1.0.1.min.js\", \"https://cdn.pydata.org/bokeh/release/bokeh-gl-1.0.1.min.js\"];\n",
       "\n",
       "  var inline_js = [\n",
       "    function(Bokeh) {\n",
       "      Bokeh.set_log_level(\"info\");\n",
       "    },\n",
       "    \n",
       "    function(Bokeh) {\n",
       "      \n",
       "    },\n",
       "    function(Bokeh) {\n",
       "      console.log(\"Bokeh: injecting CSS: https://cdn.pydata.org/bokeh/release/bokeh-1.0.1.min.css\");\n",
       "      Bokeh.embed.inject_css(\"https://cdn.pydata.org/bokeh/release/bokeh-1.0.1.min.css\");\n",
       "      console.log(\"Bokeh: injecting CSS: https://cdn.pydata.org/bokeh/release/bokeh-widgets-1.0.1.min.css\");\n",
       "      Bokeh.embed.inject_css(\"https://cdn.pydata.org/bokeh/release/bokeh-widgets-1.0.1.min.css\");\n",
       "      console.log(\"Bokeh: injecting CSS: https://cdn.pydata.org/bokeh/release/bokeh-tables-1.0.1.min.css\");\n",
       "      Bokeh.embed.inject_css(\"https://cdn.pydata.org/bokeh/release/bokeh-tables-1.0.1.min.css\");\n",
       "    }\n",
       "  ];\n",
       "\n",
       "  function run_inline_js() {\n",
       "    \n",
       "    if ((root.Bokeh !== undefined) || (force === true)) {\n",
       "      for (var i = 0; i < inline_js.length; i++) {\n",
       "        inline_js[i].call(root, root.Bokeh);\n",
       "      }if (force === true) {\n",
       "        display_loaded();\n",
       "      }} else if (Date.now() < root._bokeh_timeout) {\n",
       "      setTimeout(run_inline_js, 100);\n",
       "    } else if (!root._bokeh_failed_load) {\n",
       "      console.log(\"Bokeh: BokehJS failed to load within specified timeout.\");\n",
       "      root._bokeh_failed_load = true;\n",
       "    } else if (force !== true) {\n",
       "      var cell = $(document.getElementById(\"1004\")).parents('.cell').data().cell;\n",
       "      cell.output_area.append_execute_result(NB_LOAD_WARNING)\n",
       "    }\n",
       "\n",
       "  }\n",
       "\n",
       "  if (root._bokeh_is_loading === 0) {\n",
       "    console.log(\"Bokeh: BokehJS loaded, going straight to plotting\");\n",
       "    run_inline_js();\n",
       "  } else {\n",
       "    load_libs(js_urls, function() {\n",
       "      console.log(\"Bokeh: BokehJS plotting callback run at\", now());\n",
       "      run_inline_js();\n",
       "    });\n",
       "  }\n",
       "}(window));"
      ],
      "application/vnd.bokehjs_load.v0+json": "\n(function(root) {\n  function now() {\n    return new Date();\n  }\n\n  var force = true;\n\n  if (typeof (root._bokeh_onload_callbacks) === \"undefined\" || force === true) {\n    root._bokeh_onload_callbacks = [];\n    root._bokeh_is_loading = undefined;\n  }\n\n  \n\n  \n  if (typeof (root._bokeh_timeout) === \"undefined\" || force === true) {\n    root._bokeh_timeout = Date.now() + 5000;\n    root._bokeh_failed_load = false;\n  }\n\n  var NB_LOAD_WARNING = {'data': {'text/html':\n     \"<div style='background-color: #fdd'>\\n\"+\n     \"<p>\\n\"+\n     \"BokehJS does not appear to have successfully loaded. If loading BokehJS from CDN, this \\n\"+\n     \"may be due to a slow or bad network connection. Possible fixes:\\n\"+\n     \"</p>\\n\"+\n     \"<ul>\\n\"+\n     \"<li>re-rerun `output_notebook()` to attempt to load from CDN again, or</li>\\n\"+\n     \"<li>use INLINE resources instead, as so:</li>\\n\"+\n     \"</ul>\\n\"+\n     \"<code>\\n\"+\n     \"from bokeh.resources import INLINE\\n\"+\n     \"output_notebook(resources=INLINE)\\n\"+\n     \"</code>\\n\"+\n     \"</div>\"}};\n\n  function display_loaded() {\n    var el = document.getElementById(\"1004\");\n    if (el != null) {\n      el.textContent = \"BokehJS is loading...\";\n    }\n    if (root.Bokeh !== undefined) {\n      if (el != null) {\n        el.textContent = \"BokehJS \" + root.Bokeh.version + \" successfully loaded.\";\n      }\n    } else if (Date.now() < root._bokeh_timeout) {\n      setTimeout(display_loaded, 100)\n    }\n  }\n\n\n  function run_callbacks() {\n    try {\n      root._bokeh_onload_callbacks.forEach(function(callback) { callback() });\n    }\n    finally {\n      delete root._bokeh_onload_callbacks\n    }\n    console.info(\"Bokeh: all callbacks have finished\");\n  }\n\n  function load_libs(js_urls, callback) {\n    root._bokeh_onload_callbacks.push(callback);\n    if (root._bokeh_is_loading > 0) {\n      console.log(\"Bokeh: BokehJS is being loaded, scheduling callback at\", now());\n      return null;\n    }\n    if (js_urls == null || js_urls.length === 0) {\n      run_callbacks();\n      return null;\n    }\n    console.log(\"Bokeh: BokehJS not loaded, scheduling load and callback at\", now());\n    root._bokeh_is_loading = js_urls.length;\n    for (var i = 0; i < js_urls.length; i++) {\n      var url = js_urls[i];\n      var s = document.createElement('script');\n      s.src = url;\n      s.async = false;\n      s.onreadystatechange = s.onload = function() {\n        root._bokeh_is_loading--;\n        if (root._bokeh_is_loading === 0) {\n          console.log(\"Bokeh: all BokehJS libraries loaded\");\n          run_callbacks()\n        }\n      };\n      s.onerror = function() {\n        console.warn(\"failed to load library \" + url);\n      };\n      console.log(\"Bokeh: injecting script tag for BokehJS library: \", url);\n      document.getElementsByTagName(\"head\")[0].appendChild(s);\n    }\n  };var element = document.getElementById(\"1004\");\n  if (element == null) {\n    console.log(\"Bokeh: ERROR: autoload.js configured with elementid '1004' but no matching script tag was found. \")\n    return false;\n  }\n\n  var js_urls = [\"https://cdn.pydata.org/bokeh/release/bokeh-1.0.1.min.js\", \"https://cdn.pydata.org/bokeh/release/bokeh-widgets-1.0.1.min.js\", \"https://cdn.pydata.org/bokeh/release/bokeh-tables-1.0.1.min.js\", \"https://cdn.pydata.org/bokeh/release/bokeh-gl-1.0.1.min.js\"];\n\n  var inline_js = [\n    function(Bokeh) {\n      Bokeh.set_log_level(\"info\");\n    },\n    \n    function(Bokeh) {\n      \n    },\n    function(Bokeh) {\n      console.log(\"Bokeh: injecting CSS: https://cdn.pydata.org/bokeh/release/bokeh-1.0.1.min.css\");\n      Bokeh.embed.inject_css(\"https://cdn.pydata.org/bokeh/release/bokeh-1.0.1.min.css\");\n      console.log(\"Bokeh: injecting CSS: https://cdn.pydata.org/bokeh/release/bokeh-widgets-1.0.1.min.css\");\n      Bokeh.embed.inject_css(\"https://cdn.pydata.org/bokeh/release/bokeh-widgets-1.0.1.min.css\");\n      console.log(\"Bokeh: injecting CSS: https://cdn.pydata.org/bokeh/release/bokeh-tables-1.0.1.min.css\");\n      Bokeh.embed.inject_css(\"https://cdn.pydata.org/bokeh/release/bokeh-tables-1.0.1.min.css\");\n    }\n  ];\n\n  function run_inline_js() {\n    \n    if ((root.Bokeh !== undefined) || (force === true)) {\n      for (var i = 0; i < inline_js.length; i++) {\n        inline_js[i].call(root, root.Bokeh);\n      }if (force === true) {\n        display_loaded();\n      }} else if (Date.now() < root._bokeh_timeout) {\n      setTimeout(run_inline_js, 100);\n    } else if (!root._bokeh_failed_load) {\n      console.log(\"Bokeh: BokehJS failed to load within specified timeout.\");\n      root._bokeh_failed_load = true;\n    } else if (force !== true) {\n      var cell = $(document.getElementById(\"1004\")).parents('.cell').data().cell;\n      cell.output_area.append_execute_result(NB_LOAD_WARNING)\n    }\n\n  }\n\n  if (root._bokeh_is_loading === 0) {\n    console.log(\"Bokeh: BokehJS loaded, going straight to plotting\");\n    run_inline_js();\n  } else {\n    load_libs(js_urls, function() {\n      console.log(\"Bokeh: BokehJS plotting callback run at\", now());\n      run_inline_js();\n    });\n  }\n}(window));"
     },
     "metadata": {},
     "output_type": "display_data"
    }
   ],
   "source": [
    "# %%HIDE%%\n",
    "import numpy as np\n",
    "from ipywidgets import interact\n",
    "from bokeh.io import push_notebook, show, output_notebook\n",
    "from bokeh.plotting import figure\n",
    "\n",
    "\n",
    "output_notebook()\n",
    "\n",
    "from bokeh.layouts import row, widgetbox\n",
    "from bokeh.models import ColumnDataSource,Range1d, LabelSet, Label\n",
    "from bokeh.models.widgets import Slider, TextInput"
   ]
  },
  {
   "cell_type": "markdown",
   "metadata": {},
   "source": [
    "It can be observed that the graph of a linear function is always a line and that's where the name 'linear' comes from.\n"
   ]
  },
  {
   "cell_type": "code",
   "execution_count": 2,
   "metadata": {},
   "outputs": [
    {
     "data": {
      "text/html": [
       "\n",
       "\n",
       "\n",
       "\n",
       "\n",
       "\n",
       "  <div class=\"bk-root\" id=\"5efd5d20-20aa-4f46-a6a1-85b39c9af45e\"></div>\n"
      ]
     },
     "metadata": {},
     "output_type": "display_data"
    },
    {
     "data": {
      "application/javascript": [
       "(function(root) {\n",
       "  function embed_document(root) {\n",
       "    \n",
       "  var docs_json = {\"0f953876-d36f-425b-9868-3044fe43f892\":{\"roots\":{\"references\":[{\"attributes\":{\"below\":[{\"id\":\"1013\",\"type\":\"LinearAxis\"}],\"left\":[{\"id\":\"1018\",\"type\":\"LinearAxis\"}],\"plot_height\":300,\"plot_width\":300,\"renderers\":[{\"id\":\"1013\",\"type\":\"LinearAxis\"},{\"id\":\"1017\",\"type\":\"Grid\"},{\"id\":\"1018\",\"type\":\"LinearAxis\"},{\"id\":\"1022\",\"type\":\"Grid\"},{\"id\":\"1037\",\"type\":\"GlyphRenderer\"},{\"id\":\"1042\",\"type\":\"GlyphRenderer\"},{\"id\":\"1047\",\"type\":\"GlyphRenderer\"}],\"title\":{\"id\":\"1002\",\"type\":\"Title\"},\"toolbar\":{\"id\":\"1028\",\"type\":\"Toolbar\"},\"x_range\":{\"id\":\"1005\",\"type\":\"Range1d\"},\"x_scale\":{\"id\":\"1009\",\"type\":\"LinearScale\"},\"y_range\":{\"id\":\"1007\",\"type\":\"Range1d\"},\"y_scale\":{\"id\":\"1011\",\"type\":\"LinearScale\"}},\"id\":\"1003\",\"subtype\":\"Figure\",\"type\":\"Plot\"},{\"attributes\":{\"plot\":null,\"text\":\"Linear Function\"},\"id\":\"1002\",\"type\":\"Title\"},{\"attributes\":{},\"id\":\"1055\",\"type\":\"Selection\"},{\"attributes\":{},\"id\":\"1027\",\"type\":\"WheelZoomTool\"},{\"attributes\":{},\"id\":\"1056\",\"type\":\"UnionRenderers\"},{\"attributes\":{\"active_drag\":\"auto\",\"active_inspect\":\"auto\",\"active_multi\":null,\"active_scroll\":\"auto\",\"active_tap\":\"auto\",\"tools\":[{\"id\":\"1023\",\"type\":\"CrosshairTool\"},{\"id\":\"1024\",\"type\":\"PanTool\"},{\"id\":\"1025\",\"type\":\"ResetTool\"},{\"id\":\"1026\",\"type\":\"SaveTool\"},{\"id\":\"1027\",\"type\":\"WheelZoomTool\"}]},\"id\":\"1028\",\"type\":\"Toolbar\"},{\"attributes\":{\"callback\":null,\"end\":5,\"start\":-5},\"id\":\"1005\",\"type\":\"Range1d\"},{\"attributes\":{},\"id\":\"1057\",\"type\":\"Selection\"},{\"attributes\":{\"callback\":null,\"end\":8,\"start\":-8},\"id\":\"1007\",\"type\":\"Range1d\"},{\"attributes\":{},\"id\":\"1058\",\"type\":\"UnionRenderers\"},{\"attributes\":{},\"id\":\"1009\",\"type\":\"LinearScale\"},{\"attributes\":{},\"id\":\"1059\",\"type\":\"Selection\"},{\"attributes\":{\"source\":{\"id\":\"1034\",\"type\":\"ColumnDataSource\"}},\"id\":\"1038\",\"type\":\"CDSView\"},{\"attributes\":{},\"id\":\"1011\",\"type\":\"LinearScale\"},{\"attributes\":{\"formatter\":{\"id\":\"1051\",\"type\":\"BasicTickFormatter\"},\"plot\":{\"id\":\"1003\",\"subtype\":\"Figure\",\"type\":\"Plot\"},\"ticker\":{\"id\":\"1014\",\"type\":\"BasicTicker\"}},\"id\":\"1013\",\"type\":\"LinearAxis\"},{\"attributes\":{\"callback\":null,\"data\":{\"x\":{\"__ndarray__\":\"AAAAAAAAJMBRXkN5DeUhwER5DeU1lB/A5TWU11BeG8CH8hrKaygXwCmvobyG8hLAlNdQXkN5DcDYUF5DeQ0FwDiU11BeQ/m/gA3lNZTX4L9wDeU1lNfgPzCU11BeQ/k/2FBeQ3kNBUCU11BeQ3kNQCivobyG8hJAhvIaymsoF0DkNZTXUF4bQER5DeU1lB9AUF5DeQ3lIUAAAAAAAAAkQA==\",\"dtype\":\"float64\",\"shape\":[20]}},\"selected\":{\"id\":\"1057\",\"type\":\"Selection\"},\"selection_policy\":{\"id\":\"1056\",\"type\":\"UnionRenderers\"}},\"id\":\"1039\",\"type\":\"ColumnDataSource\"},{\"attributes\":{\"line_alpha\":0.6,\"line_width\":2,\"x\":{\"field\":\"x\"},\"y\":{\"value\":0}},\"id\":\"1040\",\"type\":\"Line\"},{\"attributes\":{},\"id\":\"1014\",\"type\":\"BasicTicker\"},{\"attributes\":{},\"id\":\"1054\",\"type\":\"UnionRenderers\"},{\"attributes\":{\"line_alpha\":0.1,\"line_color\":\"#1f77b4\",\"line_width\":2,\"x\":{\"field\":\"x\"},\"y\":{\"value\":0}},\"id\":\"1041\",\"type\":\"Line\"},{\"attributes\":{\"plot\":{\"id\":\"1003\",\"subtype\":\"Figure\",\"type\":\"Plot\"},\"ticker\":{\"id\":\"1014\",\"type\":\"BasicTicker\"}},\"id\":\"1017\",\"type\":\"Grid\"},{\"attributes\":{\"data_source\":{\"id\":\"1039\",\"type\":\"ColumnDataSource\"},\"glyph\":{\"id\":\"1040\",\"type\":\"Line\"},\"hover_glyph\":null,\"muted_glyph\":null,\"nonselection_glyph\":{\"id\":\"1041\",\"type\":\"Line\"},\"selection_glyph\":null,\"view\":{\"id\":\"1043\",\"type\":\"CDSView\"}},\"id\":\"1042\",\"type\":\"GlyphRenderer\"},{\"attributes\":{\"formatter\":{\"id\":\"1053\",\"type\":\"BasicTickFormatter\"},\"plot\":{\"id\":\"1003\",\"subtype\":\"Figure\",\"type\":\"Plot\"},\"ticker\":{\"id\":\"1019\",\"type\":\"BasicTicker\"}},\"id\":\"1018\",\"type\":\"LinearAxis\"},{\"attributes\":{\"source\":{\"id\":\"1039\",\"type\":\"ColumnDataSource\"}},\"id\":\"1043\",\"type\":\"CDSView\"},{\"attributes\":{},\"id\":\"1019\",\"type\":\"BasicTicker\"},{\"attributes\":{\"callback\":null,\"data\":{\"y\":{\"__ndarray__\":\"AAAAAAAAJMBRXkN5DeUhwER5DeU1lB/A5TWU11BeG8CH8hrKaygXwCmvobyG8hLAlNdQXkN5DcDYUF5DeQ0FwDiU11BeQ/m/gA3lNZTX4L9wDeU1lNfgPzCU11BeQ/k/2FBeQ3kNBUCU11BeQ3kNQCivobyG8hJAhvIaymsoF0DkNZTXUF4bQER5DeU1lB9AUF5DeQ3lIUAAAAAAAAAkQA==\",\"dtype\":\"float64\",\"shape\":[20]}},\"selected\":{\"id\":\"1059\",\"type\":\"Selection\"},\"selection_policy\":{\"id\":\"1058\",\"type\":\"UnionRenderers\"}},\"id\":\"1044\",\"type\":\"ColumnDataSource\"},{\"attributes\":{\"data_source\":{\"id\":\"1034\",\"type\":\"ColumnDataSource\"},\"glyph\":{\"id\":\"1035\",\"type\":\"Line\"},\"hover_glyph\":null,\"muted_glyph\":null,\"nonselection_glyph\":{\"id\":\"1036\",\"type\":\"Line\"},\"selection_glyph\":null,\"view\":{\"id\":\"1038\",\"type\":\"CDSView\"}},\"id\":\"1037\",\"type\":\"GlyphRenderer\"},{\"attributes\":{\"dimension\":1,\"plot\":{\"id\":\"1003\",\"subtype\":\"Figure\",\"type\":\"Plot\"},\"ticker\":{\"id\":\"1019\",\"type\":\"BasicTicker\"}},\"id\":\"1022\",\"type\":\"Grid\"},{\"attributes\":{\"line_alpha\":0.6,\"line_width\":2,\"x\":{\"value\":0},\"y\":{\"field\":\"y\"}},\"id\":\"1045\",\"type\":\"Line\"},{\"attributes\":{},\"id\":\"1023\",\"type\":\"CrosshairTool\"},{\"attributes\":{\"line_alpha\":0.1,\"line_color\":\"#1f77b4\",\"line_width\":2,\"x\":{\"value\":0},\"y\":{\"field\":\"y\"}},\"id\":\"1046\",\"type\":\"Line\"},{\"attributes\":{\"callback\":null,\"data\":{\"x\":{\"__ndarray__\":\"AAAAAAAAFMBRXkN5DeURwER5DeU1lA/A5TWU11BeC8CH8hrKaygHwCmvobyG8gLAlNdQXkN5/b/YUF5DeQ31vziU11BeQ+m/gA3lNZTX0L9wDeU1lNfQPzCU11BeQ+k/2FBeQ3kN9T+U11BeQ3n9PyivobyG8gJAhvIaymsoB0DkNZTXUF4LQER5DeU1lA9AUF5DeQ3lEUAAAAAAAAAUQA==\",\"dtype\":\"float64\",\"shape\":[20]},\"y\":{\"__ndarray__\":\"AAAAAAAAEMCivIbyGsoLwER5DeU1lAfA5TWU11BeA8AO5TWU11D+v1JeQ3kN5fW/KK+hvIby6r9gQ3kN5TXUvyCvobyG8so/QHkN5TWU5z9cQ3kN5TX0PxjKayivofw/bCivobyGAkDKayivobwGQCivobyG8gpAhvIaymsoD0DyGsprKK8RQKK8hvIayhNAUF5DeQ3lFUAAAAAAAAAYQA==\",\"dtype\":\"float64\",\"shape\":[20]}},\"selected\":{\"id\":\"1055\",\"type\":\"Selection\"},\"selection_policy\":{\"id\":\"1054\",\"type\":\"UnionRenderers\"}},\"id\":\"1034\",\"type\":\"ColumnDataSource\"},{\"attributes\":{\"data_source\":{\"id\":\"1044\",\"type\":\"ColumnDataSource\"},\"glyph\":{\"id\":\"1045\",\"type\":\"Line\"},\"hover_glyph\":null,\"muted_glyph\":null,\"nonselection_glyph\":{\"id\":\"1046\",\"type\":\"Line\"},\"selection_glyph\":null,\"view\":{\"id\":\"1048\",\"type\":\"CDSView\"}},\"id\":\"1047\",\"type\":\"GlyphRenderer\"},{\"attributes\":{\"line_alpha\":0.6,\"line_color\":\"blue\",\"line_width\":3,\"x\":{\"field\":\"x\"},\"y\":{\"field\":\"y\"}},\"id\":\"1035\",\"type\":\"Line\"},{\"attributes\":{\"line_alpha\":0.1,\"line_color\":\"#1f77b4\",\"line_width\":3,\"x\":{\"field\":\"x\"},\"y\":{\"field\":\"y\"}},\"id\":\"1036\",\"type\":\"Line\"},{\"attributes\":{\"source\":{\"id\":\"1044\",\"type\":\"ColumnDataSource\"}},\"id\":\"1048\",\"type\":\"CDSView\"},{\"attributes\":{},\"id\":\"1024\",\"type\":\"PanTool\"},{\"attributes\":{},\"id\":\"1051\",\"type\":\"BasicTickFormatter\"},{\"attributes\":{},\"id\":\"1025\",\"type\":\"ResetTool\"},{\"attributes\":{},\"id\":\"1053\",\"type\":\"BasicTickFormatter\"},{\"attributes\":{},\"id\":\"1026\",\"type\":\"SaveTool\"}],\"root_ids\":[\"1003\"]},\"title\":\"Bokeh Application\",\"version\":\"1.0.1\"}};\n",
       "  var render_items = [{\"docid\":\"0f953876-d36f-425b-9868-3044fe43f892\",\"roots\":{\"1003\":\"5efd5d20-20aa-4f46-a6a1-85b39c9af45e\"}}];\n",
       "  root.Bokeh.embed.embed_items_notebook(docs_json, render_items);\n",
       "\n",
       "  }\n",
       "  if (root.Bokeh !== undefined) {\n",
       "    embed_document(root);\n",
       "  } else {\n",
       "    var attempts = 0;\n",
       "    var timer = setInterval(function(root) {\n",
       "      if (root.Bokeh !== undefined) {\n",
       "        embed_document(root);\n",
       "        clearInterval(timer);\n",
       "      }\n",
       "      attempts++;\n",
       "      if (attempts > 100) {\n",
       "        console.log(\"Bokeh: ERROR: Unable to run BokehJS code because BokehJS library is missing\");\n",
       "        clearInterval(timer);\n",
       "      }\n",
       "    }, 10, root)\n",
       "  }\n",
       "})(window);"
      ],
      "application/vnd.bokehjs_exec.v0+json": ""
     },
     "metadata": {
      "application/vnd.bokehjs_exec.v0+json": {
       "id": "1003"
      }
     },
     "output_type": "display_data"
    }
   ],
   "source": [
    "# %%HIDE%%\n",
    "\n",
    "def plot(k=1, b=1):\n",
    "    x = np.linspace(-5, 5, 20) #draw the graph by the 20 values from -5 to 5.\n",
    "    y = k*x+b\n",
    "    plot = figure(plot_height=300, plot_width=300, title=\"Linear Function\",\n",
    "              tools=\"crosshair,pan,reset,save,wheel_zoom\",\n",
    "              x_range=[-5, 5], y_range=[-8, 8])\n",
    "    plot.line(x, y,color=\"blue\", line_width=3, line_alpha=0.6)\n",
    "    plot.line(np.linspace(-10, 10, 20), 0,color=\"black\", line_width=2, line_alpha=0.6)  \n",
    "    plot.line(0,np.linspace(-10, 10, 20) ,color=\"black\", line_width=2, line_alpha=0.6) \n",
    "    show(plot)\n",
    "plot()                                                                                                   "
   ]
  },
  {
   "cell_type": "markdown",
   "metadata": {},
   "source": [
    "### 2.2 Gradient of a linear function\n"
   ]
  },
  {
   "cell_type": "markdown",
   "metadata": {},
   "source": [
    "From above, it can be noted that $k$ affects the slope of the line - the bigger the absolute value of $k$, the steeper the line. Meanwhile, the line always cuts through the $y$ axis at $b$, which can be interpreted as the intersection of the line. \n",
    "\n",
    "Thus we define k the gradient of a line, which describes how steep a line is. \n",
    "\n",
    "$$k = \\frac{y_2-y_1}{x_2-x_1}$$  "
   ]
  },
  {
   "cell_type": "code",
   "execution_count": 5,
   "metadata": {},
   "outputs": [
    {
     "data": {
      "text/html": [
       "\n",
       "\n",
       "\n",
       "\n",
       "\n",
       "\n",
       "  <div class=\"bk-root\" id=\"9c0feafb-4400-4543-b183-c999f9440caf\"></div>\n"
      ]
     },
     "metadata": {},
     "output_type": "display_data"
    },
    {
     "data": {
      "application/javascript": [
       "(function(root) {\n",
       "  function embed_document(root) {\n",
       "    \n",
       "  var docs_json = {\"6b800e40-7919-41ee-942e-4a3059153d88\":{\"roots\":{\"references\":[{\"attributes\":{\"below\":[{\"id\":\"1304\",\"type\":\"LinearAxis\"}],\"left\":[{\"id\":\"1309\",\"type\":\"LinearAxis\"}],\"plot_height\":400,\"plot_width\":400,\"renderers\":[{\"id\":\"1304\",\"type\":\"LinearAxis\"},{\"id\":\"1308\",\"type\":\"Grid\"},{\"id\":\"1309\",\"type\":\"LinearAxis\"},{\"id\":\"1313\",\"type\":\"Grid\"},{\"id\":\"1322\",\"type\":\"BoxAnnotation\"},{\"id\":\"1332\",\"type\":\"GlyphRenderer\"},{\"id\":\"1337\",\"type\":\"GlyphRenderer\"},{\"id\":\"1339\",\"type\":\"LabelSet\"}],\"title\":{\"id\":\"1361\",\"type\":\"Title\"},\"toolbar\":{\"id\":\"1320\",\"type\":\"Toolbar\"},\"x_range\":{\"id\":\"1296\",\"type\":\"Range1d\"},\"x_scale\":{\"id\":\"1300\",\"type\":\"LinearScale\"},\"y_range\":{\"id\":\"1298\",\"type\":\"Range1d\"},\"y_scale\":{\"id\":\"1302\",\"type\":\"LinearScale\"}},\"id\":\"1295\",\"subtype\":\"Figure\",\"type\":\"Plot\"},{\"attributes\":{},\"id\":\"1310\",\"type\":\"BasicTicker\"},{\"attributes\":{\"source\":{\"id\":\"1294\",\"type\":\"ColumnDataSource\"}},\"id\":\"1338\",\"type\":\"CDSView\"},{\"attributes\":{},\"id\":\"1300\",\"type\":\"LinearScale\"},{\"attributes\":{\"dimension\":1,\"plot\":{\"id\":\"1295\",\"subtype\":\"Figure\",\"type\":\"Plot\"},\"ticker\":{\"id\":\"1310\",\"type\":\"BasicTicker\"}},\"id\":\"1313\",\"type\":\"Grid\"},{\"attributes\":{\"line_color\":\"#1f77b4\",\"line_width\":3,\"x\":{\"field\":\"px\"},\"y\":{\"field\":\"py\"}},\"id\":\"1330\",\"type\":\"Line\"},{\"attributes\":{\"active_drag\":\"auto\",\"active_inspect\":\"auto\",\"active_multi\":null,\"active_scroll\":\"auto\",\"active_tap\":\"auto\",\"tools\":[{\"id\":\"1314\",\"type\":\"PanTool\"},{\"id\":\"1315\",\"type\":\"WheelZoomTool\"},{\"id\":\"1316\",\"type\":\"BoxZoomTool\"},{\"id\":\"1317\",\"type\":\"SaveTool\"},{\"id\":\"1318\",\"type\":\"ResetTool\"},{\"id\":\"1319\",\"type\":\"HelpTool\"}]},\"id\":\"1320\",\"type\":\"Toolbar\"},{\"attributes\":{},\"id\":\"1364\",\"type\":\"BasicTickFormatter\"},{\"attributes\":{},\"id\":\"1314\",\"type\":\"PanTool\"},{\"attributes\":{},\"id\":\"1366\",\"type\":\"BasicTickFormatter\"},{\"attributes\":{},\"id\":\"1315\",\"type\":\"WheelZoomTool\"},{\"attributes\":{\"formatter\":{\"id\":\"1366\",\"type\":\"BasicTickFormatter\"},\"plot\":{\"id\":\"1295\",\"subtype\":\"Figure\",\"type\":\"Plot\"},\"ticker\":{\"id\":\"1310\",\"type\":\"BasicTicker\"}},\"id\":\"1309\",\"type\":\"LinearAxis\"},{\"attributes\":{\"overlay\":{\"id\":\"1322\",\"type\":\"BoxAnnotation\"}},\"id\":\"1316\",\"type\":\"BoxZoomTool\"},{\"attributes\":{\"callback\":null,\"end\":5},\"id\":\"1296\",\"type\":\"Range1d\"},{\"attributes\":{},\"id\":\"1367\",\"type\":\"UnionRenderers\"},{\"attributes\":{},\"id\":\"1317\",\"type\":\"SaveTool\"},{\"attributes\":{},\"id\":\"1368\",\"type\":\"Selection\"},{\"attributes\":{},\"id\":\"1318\",\"type\":\"ResetTool\"},{\"attributes\":{\"plot\":{\"id\":\"1295\",\"subtype\":\"Figure\",\"type\":\"Plot\"},\"ticker\":{\"id\":\"1305\",\"type\":\"BasicTicker\"}},\"id\":\"1308\",\"type\":\"Grid\"},{\"attributes\":{},\"id\":\"1319\",\"type\":\"HelpTool\"},{\"attributes\":{\"line_alpha\":0.1,\"line_color\":\"#1f77b4\",\"line_width\":3,\"x\":{\"field\":\"px\"},\"y\":{\"field\":\"py\"}},\"id\":\"1331\",\"type\":\"Line\"},{\"attributes\":{\"bottom_units\":\"screen\",\"fill_alpha\":{\"value\":0.5},\"fill_color\":{\"value\":\"lightgrey\"},\"left_units\":\"screen\",\"level\":\"overlay\",\"line_alpha\":{\"value\":1.0},\"line_color\":{\"value\":\"black\"},\"line_dash\":[4,4],\"line_width\":{\"value\":2},\"plot\":null,\"render_mode\":\"css\",\"right_units\":\"screen\",\"top_units\":\"screen\"},\"id\":\"1322\",\"type\":\"BoxAnnotation\"},{\"attributes\":{\"data_source\":{\"id\":\"1294\",\"type\":\"ColumnDataSource\"},\"glyph\":{\"id\":\"1330\",\"type\":\"Line\"},\"hover_glyph\":null,\"muted_glyph\":null,\"nonselection_glyph\":{\"id\":\"1331\",\"type\":\"Line\"},\"selection_glyph\":null,\"view\":{\"id\":\"1333\",\"type\":\"CDSView\"}},\"id\":\"1332\",\"type\":\"GlyphRenderer\"},{\"attributes\":{\"formatter\":{\"id\":\"1364\",\"type\":\"BasicTickFormatter\"},\"plot\":{\"id\":\"1295\",\"subtype\":\"Figure\",\"type\":\"Plot\"},\"ticker\":{\"id\":\"1305\",\"type\":\"BasicTicker\"}},\"id\":\"1304\",\"type\":\"LinearAxis\"},{\"attributes\":{\"source\":{\"id\":\"1294\",\"type\":\"ColumnDataSource\"}},\"id\":\"1333\",\"type\":\"CDSView\"},{\"attributes\":{},\"id\":\"1302\",\"type\":\"LinearScale\"},{\"attributes\":{\"plot\":null,\"text\":\"\"},\"id\":\"1361\",\"type\":\"Title\"},{\"attributes\":{\"level\":\"glyph\",\"plot\":{\"id\":\"1295\",\"subtype\":\"Figure\",\"type\":\"Plot\"},\"source\":{\"id\":\"1294\",\"type\":\"ColumnDataSource\"},\"text\":{\"field\":\"names\"},\"x\":{\"field\":\"px\"},\"x_offset\":{\"value\":5},\"y\":{\"field\":\"py\"},\"y_offset\":{\"value\":5}},\"id\":\"1339\",\"type\":\"LabelSet\"},{\"attributes\":{\"fill_color\":{\"value\":\"white\"},\"line_color\":{\"value\":\"#1f77b4\"},\"size\":{\"units\":\"screen\",\"value\":12},\"x\":{\"field\":\"px\"},\"y\":{\"field\":\"py\"}},\"id\":\"1335\",\"type\":\"Circle\"},{\"attributes\":{},\"id\":\"1305\",\"type\":\"BasicTicker\"},{\"attributes\":{\"callback\":null,\"data\":{\"names\":[\"(x1,y1)\",\"(x2,y1)\",\"(x2,y2)\",\"\"],\"px\":[1,4,4,1],\"py\":[2,2,6,2]},\"selected\":{\"id\":\"1368\",\"type\":\"Selection\"},\"selection_policy\":{\"id\":\"1367\",\"type\":\"UnionRenderers\"}},\"id\":\"1294\",\"type\":\"ColumnDataSource\"},{\"attributes\":{\"fill_alpha\":{\"value\":0.1},\"fill_color\":{\"value\":\"#1f77b4\"},\"line_alpha\":{\"value\":0.1},\"line_color\":{\"value\":\"#1f77b4\"},\"size\":{\"units\":\"screen\",\"value\":12},\"x\":{\"field\":\"px\"},\"y\":{\"field\":\"py\"}},\"id\":\"1336\",\"type\":\"Circle\"},{\"attributes\":{\"callback\":null,\"end\":8},\"id\":\"1298\",\"type\":\"Range1d\"},{\"attributes\":{\"data_source\":{\"id\":\"1294\",\"type\":\"ColumnDataSource\"},\"glyph\":{\"id\":\"1335\",\"type\":\"Circle\"},\"hover_glyph\":null,\"muted_glyph\":null,\"nonselection_glyph\":{\"id\":\"1336\",\"type\":\"Circle\"},\"selection_glyph\":null,\"view\":{\"id\":\"1338\",\"type\":\"CDSView\"}},\"id\":\"1337\",\"type\":\"GlyphRenderer\"}],\"root_ids\":[\"1295\"]},\"title\":\"Bokeh Application\",\"version\":\"1.0.1\"}};\n",
       "  var render_items = [{\"docid\":\"6b800e40-7919-41ee-942e-4a3059153d88\",\"roots\":{\"1295\":\"9c0feafb-4400-4543-b183-c999f9440caf\"}}];\n",
       "  root.Bokeh.embed.embed_items_notebook(docs_json, render_items);\n",
       "\n",
       "  }\n",
       "  if (root.Bokeh !== undefined) {\n",
       "    embed_document(root);\n",
       "  } else {\n",
       "    var attempts = 0;\n",
       "    var timer = setInterval(function(root) {\n",
       "      if (root.Bokeh !== undefined) {\n",
       "        embed_document(root);\n",
       "        clearInterval(timer);\n",
       "      }\n",
       "      attempts++;\n",
       "      if (attempts > 100) {\n",
       "        console.log(\"Bokeh: ERROR: Unable to run BokehJS code because BokehJS library is missing\");\n",
       "        clearInterval(timer);\n",
       "      }\n",
       "    }, 10, root)\n",
       "  }\n",
       "})(window);"
      ],
      "application/vnd.bokehjs_exec.v0+json": ""
     },
     "metadata": {
      "application/vnd.bokehjs_exec.v0+json": {
       "id": "1295"
      }
     },
     "output_type": "display_data"
    }
   ],
   "source": [
    "# %%HIDE%%\n",
    "\n",
    "source = ColumnDataSource(data=dict(px=[1, 4, 4,1],\n",
    "                                    py=[2, 2, 6,2],\n",
    "                                    names=['(x1,y1)', '(x2,y1)', '(x2,y2)','']))\n",
    "p = figure(plot_height=400, plot_width=400,x_range=[0, 5], y_range=[0, 8])\n",
    "p.line(x='px', y='py', source=source,line_width=3) \n",
    "p.circle(x='px', y='py', source=source,fill_color='white',size=12) \n",
    "labels = LabelSet(x='px', y='py', text='names', level='glyph',\n",
    "              x_offset=5, y_offset=5, source=source, render_mode='canvas')\n",
    "\n",
    "\n",
    "p.add_layout(labels)\n",
    "\n",
    "show(p)\n",
    "\n",
    "\n",
    "                                                                                                               # %%S%%"
   ]
  },
  {
   "cell_type": "markdown",
   "metadata": {},
   "source": [
    "### 2.3 Play with $k$\n"
   ]
  },
  {
   "cell_type": "markdown",
   "metadata": {},
   "source": [
    "Hit the run button below to play with a range of $k$ values. What can you find?\n",
    "\n",
    "One thing to notice is that the line is 'upward' when $k>0$ and 'downward' when $k<0$.\n",
    "\n",
    "Furthermore, when k=0 the line becomes horizontal. And when k becomes very large (approaching infinity), its graph gets closer and closer to being a vertical line"
   ]
  },
  {
   "cell_type": "code",
   "execution_count": null,
   "metadata": {},
   "outputs": [],
   "source": [
    "# %%HIDE%%\n",
    "x = np.linspace(0, 4, 2000)\n",
    "y = x+1\n",
    "p = figure(title=\"Linear line example\", plot_height=400\n",
    "           , plot_width=400, y_range=(-1,6),x_range=(-2,5))\n",
    "r = p.line(x, y, color=\"#2222aa\", line_width=3)\n",
    "\n",
    "def update(k=1, b=1):\n",
    "    r.data_source.data['y'] = k*x+b\n",
    "    push_notebook()\n",
    "    \n",
    "show(p, notebook_handle=True)\n",
    "\n",
    "interact(update, k=(-3,3,0.1), b=(1,5,0.1))"
   ]
  },
  {
   "cell_type": "markdown",
   "metadata": {},
   "source": [
    "### 2.4 Gradient Calculation Given 2 Points\n",
    "The image below gives us some idea of how to calculate the gradient of a line. Now given the coordinates of 2 points $p_1$ & $p_2$ of a line, the following code calculate its gradient $k$ and intersection $b$."
   ]
  },
  {
   "cell_type": "code",
   "execution_count": 25,
   "metadata": {},
   "outputs": [
    {
     "data": {
      "text/html": [
       "\n",
       "<div class=\"bk-root\">\n",
       "    <div class=\"bk-plotdiv\" id=\"0ebe47a3-c099-4dd8-86fc-f9cc0f27d848\"></div>\n",
       "</div>"
      ]
     },
     "metadata": {},
     "output_type": "display_data"
    },
    {
     "data": {
      "application/javascript": [
       "(function(root) {\n",
       "  function embed_document(root) {\n",
       "    \n",
       "  var docs_json = {\"a6e8032a-e34d-4c4e-b1d0-b6ef00a09dd4\":{\"roots\":{\"references\":[{\"attributes\":{\"source\":{\"id\":\"8a185ef3-88f9-4a24-82b0-5eeca71747e9\",\"type\":\"ColumnDataSource\"}},\"id\":\"7443f6bc-68e1-478c-8378-bc953b02d5b2\",\"type\":\"CDSView\"},{\"attributes\":{\"callback\":null,\"end\":8,\"start\":-8},\"id\":\"95c4208f-1655-4f77-97d6-6712424a9cad\",\"type\":\"Range1d\"},{\"attributes\":{\"data_source\":{\"id\":\"8a185ef3-88f9-4a24-82b0-5eeca71747e9\",\"type\":\"ColumnDataSource\"},\"glyph\":{\"id\":\"607ed519-b722-4662-82a3-8238210514c0\",\"type\":\"Line\"},\"hover_glyph\":null,\"muted_glyph\":null,\"nonselection_glyph\":{\"id\":\"36e11819-2b6d-4251-88dd-ec26c61ee632\",\"type\":\"Line\"},\"selection_glyph\":null,\"view\":{\"id\":\"7443f6bc-68e1-478c-8378-bc953b02d5b2\",\"type\":\"CDSView\"}},\"id\":\"3c6c0588-0500-44f4-9ca4-b7159576e2f8\",\"type\":\"GlyphRenderer\"},{\"attributes\":{\"source\":{\"id\":\"877625f9-700d-41dd-8268-de5a5f2765e5\",\"type\":\"ColumnDataSource\"}},\"id\":\"c80233ce-2f72-40c2-8fea-d62ac2f53ae5\",\"type\":\"CDSView\"},{\"attributes\":{\"active_drag\":\"auto\",\"active_inspect\":\"auto\",\"active_scroll\":\"auto\",\"active_tap\":\"auto\",\"tools\":[{\"id\":\"8a3f78e2-56e8-46cc-9487-c4dd63528038\",\"type\":\"CrosshairTool\"},{\"id\":\"5ec0bc5a-75f2-4d99-b52e-1da0cd8a6b99\",\"type\":\"PanTool\"},{\"id\":\"de12d9b0-6fc9-4713-a3bb-d39b89bd3727\",\"type\":\"ResetTool\"},{\"id\":\"28a50b7c-1b28-4e96-803f-96504c16b2d2\",\"type\":\"SaveTool\"},{\"id\":\"01320f0e-08ae-4101-bad4-c9dea69117df\",\"type\":\"WheelZoomTool\"}]},\"id\":\"ad1170d3-39ed-475e-b4ac-6627cfa20818\",\"type\":\"Toolbar\"},{\"attributes\":{},\"id\":\"de12d9b0-6fc9-4713-a3bb-d39b89bd3727\",\"type\":\"ResetTool\"},{\"attributes\":{\"callback\":null,\"data\":{\"y\":{\"__ndarray__\":\"AAAAAAAAJMBRXkN5DeUhwER5DeU1lB/A5TWU11BeG8CH8hrKaygXwCmvobyG8hLAlNdQXkN5DcDYUF5DeQ0FwDiU11BeQ/m/gA3lNZTX4L9wDeU1lNfgPzCU11BeQ/k/2FBeQ3kNBUCU11BeQ3kNQCivobyG8hJAhvIaymsoF0DkNZTXUF4bQER5DeU1lB9AUF5DeQ3lIUAAAAAAAAAkQA==\",\"dtype\":\"float64\",\"shape\":[20]}},\"selected\":{\"id\":\"d69d1aa0-ff60-4d6e-a0f2-e7b6ad24678c\",\"type\":\"Selection\"},\"selection_policy\":{\"id\":\"db56861f-40b3-40d7-8876-79105b80336e\",\"type\":\"UnionRenderers\"}},\"id\":\"8a185ef3-88f9-4a24-82b0-5eeca71747e9\",\"type\":\"ColumnDataSource\"},{\"attributes\":{\"data_source\":{\"id\":\"04a21614-e48a-4ec4-899c-f857004cbd9b\",\"type\":\"ColumnDataSource\"},\"glyph\":{\"id\":\"d4f4e60d-8815-4da4-939f-658e7fe3d7a0\",\"type\":\"Line\"},\"hover_glyph\":null,\"muted_glyph\":null,\"nonselection_glyph\":{\"id\":\"05eba9e7-4bf6-4160-be4f-03eb9ead3ae5\",\"type\":\"Line\"},\"selection_glyph\":null,\"view\":{\"id\":\"fcd113af-0195-486b-8a4a-8cd3fe1f92cb\",\"type\":\"CDSView\"}},\"id\":\"6bb6c451-cfa3-464f-ba17-e11dde67772b\",\"type\":\"GlyphRenderer\"},{\"attributes\":{},\"id\":\"5ec0bc5a-75f2-4d99-b52e-1da0cd8a6b99\",\"type\":\"PanTool\"},{\"attributes\":{},\"id\":\"52a5611b-cce0-4811-bffb-1448cf906155\",\"type\":\"UnionRenderers\"},{\"attributes\":{\"line_alpha\":0.6,\"line_width\":2,\"x\":{\"field\":\"x\"},\"y\":{\"value\":0}},\"id\":\"9caaf49b-a841-4235-bdc2-be563277754b\",\"type\":\"Line\"},{\"attributes\":{},\"id\":\"db56861f-40b3-40d7-8876-79105b80336e\",\"type\":\"UnionRenderers\"},{\"attributes\":{},\"id\":\"01320f0e-08ae-4101-bad4-c9dea69117df\",\"type\":\"WheelZoomTool\"},{\"attributes\":{},\"id\":\"cf7bbc9b-cf81-4e86-a324-b2e58f9ec544\",\"type\":\"Selection\"},{\"attributes\":{\"callback\":null,\"data\":{\"x\":{\"__ndarray__\":\"AAAAAAAAFMBRXkN5DeURwER5DeU1lA/A5TWU11BeC8CH8hrKaygHwCmvobyG8gLAlNdQXkN5/b/YUF5DeQ31vziU11BeQ+m/gA3lNZTX0L9wDeU1lNfQPzCU11BeQ+k/2FBeQ3kN9T+U11BeQ3n9PyivobyG8gJAhvIaymsoB0DkNZTXUF4LQER5DeU1lA9AUF5DeQ3lEUAAAAAAAAAUQA==\",\"dtype\":\"float64\",\"shape\":[20]},\"y\":{\"__ndarray__\":\"AAAAAAAA4L8Q5TWU11DOvwCvobyG8po/bCivobyG0j/yGsprKK/hP66hvIbyGuo/NpTXUF5D8T+U11BeQ3n1P/Iaymsor/k/UF5DeQ3l/T/XUF5DeQ0BQIbyGsprKANANpTXUF5DBUDlNZTXUF4HQJTXUF5DeQlAQ3kN5TWUC0DyGsprKK8NQKK8hvIayg9AKK+hvIbyEEAAAAAAAAASQA==\",\"dtype\":\"float64\",\"shape\":[20]}},\"selected\":{\"id\":\"cf7bbc9b-cf81-4e86-a324-b2e58f9ec544\",\"type\":\"Selection\"},\"selection_policy\":{\"id\":\"52a5611b-cce0-4811-bffb-1448cf906155\",\"type\":\"UnionRenderers\"}},\"id\":\"04a21614-e48a-4ec4-899c-f857004cbd9b\",\"type\":\"ColumnDataSource\"},{\"attributes\":{},\"id\":\"d69d1aa0-ff60-4d6e-a0f2-e7b6ad24678c\",\"type\":\"Selection\"},{\"attributes\":{\"plot\":null,\"text\":\"Linear Function\"},\"id\":\"dd369ae4-24bd-4efa-806b-5944e611dd6b\",\"type\":\"Title\"},{\"attributes\":{},\"id\":\"373a6f22-b4c2-447d-ab92-109e0095164c\",\"type\":\"LinearScale\"},{\"attributes\":{\"plot\":{\"id\":\"c4077f46-d993-456e-a449-e4adac63e3ae\",\"subtype\":\"Figure\",\"type\":\"Plot\"},\"ticker\":{\"id\":\"a1086dbc-a827-4609-8dfb-5b4631691b69\",\"type\":\"BasicTicker\"}},\"id\":\"65abdc72-66fc-4717-819c-cf0c70cb7827\",\"type\":\"Grid\"},{\"attributes\":{\"below\":[{\"id\":\"956463e1-b83a-4cef-bfce-0d44f6f39d62\",\"type\":\"LinearAxis\"}],\"left\":[{\"id\":\"253eb2cd-ba24-4b55-9224-693c87175e0c\",\"type\":\"LinearAxis\"}],\"plot_height\":300,\"plot_width\":300,\"renderers\":[{\"id\":\"956463e1-b83a-4cef-bfce-0d44f6f39d62\",\"type\":\"LinearAxis\"},{\"id\":\"65abdc72-66fc-4717-819c-cf0c70cb7827\",\"type\":\"Grid\"},{\"id\":\"253eb2cd-ba24-4b55-9224-693c87175e0c\",\"type\":\"LinearAxis\"},{\"id\":\"c39d68e9-dc0c-427a-bb7a-a5add07c47cb\",\"type\":\"Grid\"},{\"id\":\"6bb6c451-cfa3-464f-ba17-e11dde67772b\",\"type\":\"GlyphRenderer\"},{\"id\":\"c2bcb864-2de1-4272-b68c-b794b4a4eba7\",\"type\":\"GlyphRenderer\"},{\"id\":\"3c6c0588-0500-44f4-9ca4-b7159576e2f8\",\"type\":\"GlyphRenderer\"}],\"title\":{\"id\":\"dd369ae4-24bd-4efa-806b-5944e611dd6b\",\"type\":\"Title\"},\"toolbar\":{\"id\":\"ad1170d3-39ed-475e-b4ac-6627cfa20818\",\"type\":\"Toolbar\"},\"x_range\":{\"id\":\"6f1a10b4-fd4e-423e-b02c-7506729d02fa\",\"type\":\"Range1d\"},\"x_scale\":{\"id\":\"765bc616-3f8f-4d88-b7b5-8f8f966ab404\",\"type\":\"LinearScale\"},\"y_range\":{\"id\":\"95c4208f-1655-4f77-97d6-6712424a9cad\",\"type\":\"Range1d\"},\"y_scale\":{\"id\":\"373a6f22-b4c2-447d-ab92-109e0095164c\",\"type\":\"LinearScale\"}},\"id\":\"c4077f46-d993-456e-a449-e4adac63e3ae\",\"subtype\":\"Figure\",\"type\":\"Plot\"},{\"attributes\":{\"dimension\":1,\"plot\":{\"id\":\"c4077f46-d993-456e-a449-e4adac63e3ae\",\"subtype\":\"Figure\",\"type\":\"Plot\"},\"ticker\":{\"id\":\"1085a506-9670-40b8-86d4-fa48aeb0db2a\",\"type\":\"BasicTicker\"}},\"id\":\"c39d68e9-dc0c-427a-bb7a-a5add07c47cb\",\"type\":\"Grid\"},{\"attributes\":{\"callback\":null,\"end\":5,\"start\":-5},\"id\":\"6f1a10b4-fd4e-423e-b02c-7506729d02fa\",\"type\":\"Range1d\"},{\"attributes\":{\"formatter\":{\"id\":\"46b8e1c7-a34d-4434-a8f2-b611bb15a258\",\"type\":\"BasicTickFormatter\"},\"plot\":{\"id\":\"c4077f46-d993-456e-a449-e4adac63e3ae\",\"subtype\":\"Figure\",\"type\":\"Plot\"},\"ticker\":{\"id\":\"1085a506-9670-40b8-86d4-fa48aeb0db2a\",\"type\":\"BasicTicker\"}},\"id\":\"253eb2cd-ba24-4b55-9224-693c87175e0c\",\"type\":\"LinearAxis\"},{\"attributes\":{\"callback\":null,\"data\":{\"x\":{\"__ndarray__\":\"AAAAAAAAJMBRXkN5DeUhwER5DeU1lB/A5TWU11BeG8CH8hrKaygXwCmvobyG8hLAlNdQXkN5DcDYUF5DeQ0FwDiU11BeQ/m/gA3lNZTX4L9wDeU1lNfgPzCU11BeQ/k/2FBeQ3kNBUCU11BeQ3kNQCivobyG8hJAhvIaymsoF0DkNZTXUF4bQER5DeU1lB9AUF5DeQ3lIUAAAAAAAAAkQA==\",\"dtype\":\"float64\",\"shape\":[20]}},\"selected\":{\"id\":\"db71fa1c-f167-418d-b35c-efc27e5e3e07\",\"type\":\"Selection\"},\"selection_policy\":{\"id\":\"1d17ad68-d2f3-48a1-bf38-ea150cd586ef\",\"type\":\"UnionRenderers\"}},\"id\":\"877625f9-700d-41dd-8268-de5a5f2765e5\",\"type\":\"ColumnDataSource\"},{\"attributes\":{},\"id\":\"28a50b7c-1b28-4e96-803f-96504c16b2d2\",\"type\":\"SaveTool\"},{\"attributes\":{},\"id\":\"1d17ad68-d2f3-48a1-bf38-ea150cd586ef\",\"type\":\"UnionRenderers\"},{\"attributes\":{\"source\":{\"id\":\"04a21614-e48a-4ec4-899c-f857004cbd9b\",\"type\":\"ColumnDataSource\"}},\"id\":\"fcd113af-0195-486b-8a4a-8cd3fe1f92cb\",\"type\":\"CDSView\"},{\"attributes\":{},\"id\":\"8a3f78e2-56e8-46cc-9487-c4dd63528038\",\"type\":\"CrosshairTool\"},{\"attributes\":{\"line_alpha\":0.1,\"line_color\":\"#1f77b4\",\"line_width\":3,\"x\":{\"field\":\"x\"},\"y\":{\"field\":\"y\"}},\"id\":\"05eba9e7-4bf6-4160-be4f-03eb9ead3ae5\",\"type\":\"Line\"},{\"attributes\":{\"data_source\":{\"id\":\"877625f9-700d-41dd-8268-de5a5f2765e5\",\"type\":\"ColumnDataSource\"},\"glyph\":{\"id\":\"9caaf49b-a841-4235-bdc2-be563277754b\",\"type\":\"Line\"},\"hover_glyph\":null,\"muted_glyph\":null,\"nonselection_glyph\":{\"id\":\"19b7340c-3445-4363-9b3e-10b6972aecb1\",\"type\":\"Line\"},\"selection_glyph\":null,\"view\":{\"id\":\"c80233ce-2f72-40c2-8fea-d62ac2f53ae5\",\"type\":\"CDSView\"}},\"id\":\"c2bcb864-2de1-4272-b68c-b794b4a4eba7\",\"type\":\"GlyphRenderer\"},{\"attributes\":{},\"id\":\"a1086dbc-a827-4609-8dfb-5b4631691b69\",\"type\":\"BasicTicker\"},{\"attributes\":{},\"id\":\"62a067a1-56da-4d55-8f1b-557ea6a00ca7\",\"type\":\"BasicTickFormatter\"},{\"attributes\":{},\"id\":\"765bc616-3f8f-4d88-b7b5-8f8f966ab404\",\"type\":\"LinearScale\"},{\"attributes\":{\"line_alpha\":0.6,\"line_color\":\"blue\",\"line_width\":3,\"x\":{\"field\":\"x\"},\"y\":{\"field\":\"y\"}},\"id\":\"d4f4e60d-8815-4da4-939f-658e7fe3d7a0\",\"type\":\"Line\"},{\"attributes\":{\"formatter\":{\"id\":\"62a067a1-56da-4d55-8f1b-557ea6a00ca7\",\"type\":\"BasicTickFormatter\"},\"plot\":{\"id\":\"c4077f46-d993-456e-a449-e4adac63e3ae\",\"subtype\":\"Figure\",\"type\":\"Plot\"},\"ticker\":{\"id\":\"a1086dbc-a827-4609-8dfb-5b4631691b69\",\"type\":\"BasicTicker\"}},\"id\":\"956463e1-b83a-4cef-bfce-0d44f6f39d62\",\"type\":\"LinearAxis\"},{\"attributes\":{},\"id\":\"46b8e1c7-a34d-4434-a8f2-b611bb15a258\",\"type\":\"BasicTickFormatter\"},{\"attributes\":{\"line_alpha\":0.1,\"line_color\":\"#1f77b4\",\"line_width\":2,\"x\":{\"field\":\"x\"},\"y\":{\"value\":0}},\"id\":\"19b7340c-3445-4363-9b3e-10b6972aecb1\",\"type\":\"Line\"},{\"attributes\":{\"line_alpha\":0.6,\"line_width\":2,\"x\":{\"value\":0},\"y\":{\"field\":\"y\"}},\"id\":\"607ed519-b722-4662-82a3-8238210514c0\",\"type\":\"Line\"},{\"attributes\":{},\"id\":\"db71fa1c-f167-418d-b35c-efc27e5e3e07\",\"type\":\"Selection\"},{\"attributes\":{},\"id\":\"1085a506-9670-40b8-86d4-fa48aeb0db2a\",\"type\":\"BasicTicker\"},{\"attributes\":{\"line_alpha\":0.1,\"line_color\":\"#1f77b4\",\"line_width\":2,\"x\":{\"value\":0},\"y\":{\"field\":\"y\"}},\"id\":\"36e11819-2b6d-4251-88dd-ec26c61ee632\",\"type\":\"Line\"}],\"root_ids\":[\"c4077f46-d993-456e-a449-e4adac63e3ae\"]},\"title\":\"Bokeh Application\",\"version\":\"0.12.16\"}};\n",
       "  var render_items = [{\"docid\":\"a6e8032a-e34d-4c4e-b1d0-b6ef00a09dd4\",\"elementid\":\"0ebe47a3-c099-4dd8-86fc-f9cc0f27d848\",\"modelid\":\"c4077f46-d993-456e-a449-e4adac63e3ae\"}];\n",
       "  root.Bokeh.embed.embed_items_notebook(docs_json, render_items);\n",
       "\n",
       "  }\n",
       "  if (root.Bokeh !== undefined) {\n",
       "    embed_document(root);\n",
       "  } else {\n",
       "    var attempts = 0;\n",
       "    var timer = setInterval(function(root) {\n",
       "      if (root.Bokeh !== undefined) {\n",
       "        embed_document(root);\n",
       "        clearInterval(timer);\n",
       "      }\n",
       "      attempts++;\n",
       "      if (attempts > 100) {\n",
       "        console.log(\"Bokeh: ERROR: Unable to run BokehJS code because BokehJS library is missing\")\n",
       "        clearInterval(timer);\n",
       "      }\n",
       "    }, 10, root)\n",
       "  }\n",
       "})(window);"
      ],
      "application/vnd.bokehjs_exec.v0+json": ""
     },
     "metadata": {
      "application/vnd.bokehjs_exec.v0+json": {
       "id": "c4077f46-d993-456e-a449-e4adac63e3ae"
      }
     },
     "output_type": "display_data"
    }
   ],
   "source": [
    "def k_b_calculator(p1, p2):\n",
    "    ## Here [0] means x axis and [1] means y axis. \n",
    "    if p1[0] == p2[0]:\n",
    "        raise Exception(\"a vertical line4\")\n",
    "    dx = p2[0] - p1[0]\n",
    "    dy = p2[1] - p1[1]\n",
    "    k = dy/dx\n",
    "    b = p1[1] - k*p1[0]\n",
    "    return (k, b)\n",
    "(k, b) = k_b_calculator((-2,1), (0,2))\n",
    "plot(k, b)"
   ]
  },
  {
   "cell_type": "markdown",
   "metadata": {},
   "source": [
    "## 3 Exercise for Linear Function"
   ]
  },
  {
   "cell_type": "markdown",
   "metadata": {},
   "source": [
    "##### 3.1 What is the gradient of the line $y=x$? Draw it.\n",
    "(Fill in the BLANK in the code to get the result)"
   ]
  },
  {
   "cell_type": "code",
   "execution_count": 123,
   "metadata": {},
   "outputs": [
    {
     "name": "stdout",
     "output_type": "stream",
     "text": [
      "The gradient is 1\n"
     ]
    },
    {
     "ename": "NameError",
     "evalue": "name '_______________' is not defined",
     "output_type": "error",
     "traceback": [
      "\u001b[0;31m---------------------------------------------------------------------------\u001b[0m",
      "\u001b[0;31mNameError\u001b[0m                                 Traceback (most recent call last)",
      "\u001b[0;32m<ipython-input-123-936cdaf6dfcc>\u001b[0m in \u001b[0;36m<module>\u001b[0;34m()\u001b[0m\n\u001b[1;32m      1\u001b[0m \u001b[0mprint\u001b[0m\u001b[0;34m(\u001b[0m\u001b[0;34m\"The gradient is 1\"\u001b[0m\u001b[0;34m)\u001b[0m\u001b[0;34m\u001b[0m\u001b[0m\n\u001b[1;32m      2\u001b[0m \u001b[0mx\u001b[0m \u001b[0;34m=\u001b[0m \u001b[0mnp\u001b[0m\u001b[0;34m.\u001b[0m\u001b[0mlinspace\u001b[0m\u001b[0;34m(\u001b[0m\u001b[0;34m-\u001b[0m\u001b[0;36m5\u001b[0m\u001b[0;34m,\u001b[0m \u001b[0;36m5\u001b[0m\u001b[0;34m,\u001b[0m \u001b[0;36m20\u001b[0m\u001b[0;34m)\u001b[0m \u001b[0;31m#draw the graph by the 20 values from -5 to 5.\u001b[0m\u001b[0;34m\u001b[0m\u001b[0m\n\u001b[0;32m----> 3\u001b[0;31m \u001b[0my\u001b[0m \u001b[0;34m=\u001b[0m \u001b[0m_______________\u001b[0m\u001b[0;34m\u001b[0m\u001b[0m\n\u001b[0m\u001b[1;32m      4\u001b[0m \u001b[0mp\u001b[0m \u001b[0;34m=\u001b[0m \u001b[0mfigure\u001b[0m\u001b[0;34m(\u001b[0m\u001b[0;34m)\u001b[0m\u001b[0;34m\u001b[0m\u001b[0m\n\u001b[1;32m      5\u001b[0m \u001b[0mp\u001b[0m\u001b[0;34m.\u001b[0m\u001b[0mline\u001b[0m\u001b[0;34m(\u001b[0m\u001b[0mx\u001b[0m\u001b[0;34m,\u001b[0m \u001b[0my\u001b[0m\u001b[0;34m,\u001b[0m\u001b[0mcolor\u001b[0m\u001b[0;34m=\u001b[0m\u001b[0;34m\"blue\"\u001b[0m\u001b[0;34m,\u001b[0m \u001b[0mline_width\u001b[0m\u001b[0;34m=\u001b[0m\u001b[0;36m3\u001b[0m\u001b[0;34m,\u001b[0m \u001b[0mline_alpha\u001b[0m\u001b[0;34m=\u001b[0m\u001b[0;36m0.6\u001b[0m\u001b[0;34m)\u001b[0m\u001b[0;34m\u001b[0m\u001b[0m\n",
      "\u001b[0;31mNameError\u001b[0m: name '_______________' is not defined"
     ]
    }
   ],
   "source": [
    "print(\"The gradient is 1\")\n",
    "x = np.linspace(-5, 5, 20) #draw the graph by the 20 values from -5 to 5.\n",
    "y = _______________\n",
    "p = figure()\n",
    "p.line(x, y,color=\"blue\", line_width=3, line_alpha=0.6)    \n",
    "show(p)"
   ]
  },
  {
   "cell_type": "markdown",
   "metadata": {},
   "source": [
    "##### 3.2 What is the gradient of the line $y=2x+1$? Draw it.\n",
    "(Fill in the BLANK in the code to get the result)"
   ]
  },
  {
   "cell_type": "code",
   "execution_count": 124,
   "metadata": {},
   "outputs": [
    {
     "name": "stdout",
     "output_type": "stream",
     "text": [
      "The gradient is 2\n"
     ]
    },
    {
     "ename": "NameError",
     "evalue": "name '_______________' is not defined",
     "output_type": "error",
     "traceback": [
      "\u001b[0;31m---------------------------------------------------------------------------\u001b[0m",
      "\u001b[0;31mNameError\u001b[0m                                 Traceback (most recent call last)",
      "\u001b[0;32m<ipython-input-124-36cac4064fcf>\u001b[0m in \u001b[0;36m<module>\u001b[0;34m()\u001b[0m\n\u001b[1;32m      1\u001b[0m \u001b[0mprint\u001b[0m\u001b[0;34m(\u001b[0m\u001b[0;34m\"The gradient is 2\"\u001b[0m\u001b[0;34m)\u001b[0m\u001b[0;34m\u001b[0m\u001b[0m\n\u001b[1;32m      2\u001b[0m \u001b[0mx\u001b[0m \u001b[0;34m=\u001b[0m \u001b[0mnp\u001b[0m\u001b[0;34m.\u001b[0m\u001b[0mlinspace\u001b[0m\u001b[0;34m(\u001b[0m\u001b[0;34m-\u001b[0m\u001b[0;36m5\u001b[0m\u001b[0;34m,\u001b[0m \u001b[0;36m5\u001b[0m\u001b[0;34m,\u001b[0m \u001b[0;36m20\u001b[0m\u001b[0;34m)\u001b[0m \u001b[0;31m#draw the graph by the 20 values from -5 to 5.\u001b[0m\u001b[0;34m\u001b[0m\u001b[0m\n\u001b[0;32m----> 3\u001b[0;31m \u001b[0my\u001b[0m \u001b[0;34m=\u001b[0m \u001b[0m_______________\u001b[0m\u001b[0;34m\u001b[0m\u001b[0m\n\u001b[0m\u001b[1;32m      4\u001b[0m \u001b[0mp\u001b[0m \u001b[0;34m=\u001b[0m \u001b[0mfigure\u001b[0m\u001b[0;34m(\u001b[0m\u001b[0;34m)\u001b[0m\u001b[0;34m\u001b[0m\u001b[0m\n\u001b[1;32m      5\u001b[0m \u001b[0mp\u001b[0m\u001b[0;34m.\u001b[0m\u001b[0mline\u001b[0m\u001b[0;34m(\u001b[0m\u001b[0mx\u001b[0m\u001b[0;34m,\u001b[0m \u001b[0my\u001b[0m\u001b[0;34m,\u001b[0m\u001b[0mcolor\u001b[0m\u001b[0;34m=\u001b[0m\u001b[0;34m\"blue\"\u001b[0m\u001b[0;34m,\u001b[0m \u001b[0mline_width\u001b[0m\u001b[0;34m=\u001b[0m\u001b[0;36m3\u001b[0m\u001b[0;34m,\u001b[0m \u001b[0mline_alpha\u001b[0m\u001b[0;34m=\u001b[0m\u001b[0;36m0.6\u001b[0m\u001b[0;34m)\u001b[0m\u001b[0;34m\u001b[0m\u001b[0m\n",
      "\u001b[0;31mNameError\u001b[0m: name '_______________' is not defined"
     ]
    }
   ],
   "source": [
    "print(\"The gradient is 2\")\n",
    "x = np.linspace(-5, 5, 20) #draw the graph by the 20 values from -5 to 5.\n",
    "y = _______________\n",
    "p = figure()\n",
    "p.line(x, y,color=\"blue\", line_width=3, line_alpha=0.6)    \n",
    "show(p)\n",
    "\n"
   ]
  },
  {
   "cell_type": "markdown",
   "metadata": {},
   "source": [
    "##### 3.3 What is the gradient of the line $2y+3x+1=2$? Draw it.\n",
    "(Fill in the BLANK in the code to get the result)"
   ]
  },
  {
   "cell_type": "code",
   "execution_count": 125,
   "metadata": {},
   "outputs": [
    {
     "name": "stdout",
     "output_type": "stream",
     "text": [
      "The gradient is -1.5\n"
     ]
    },
    {
     "ename": "NameError",
     "evalue": "name '_______________' is not defined",
     "output_type": "error",
     "traceback": [
      "\u001b[0;31m---------------------------------------------------------------------------\u001b[0m",
      "\u001b[0;31mNameError\u001b[0m                                 Traceback (most recent call last)",
      "\u001b[0;32m<ipython-input-125-7cc45c999607>\u001b[0m in \u001b[0;36m<module>\u001b[0;34m()\u001b[0m\n\u001b[1;32m      1\u001b[0m \u001b[0mprint\u001b[0m\u001b[0;34m(\u001b[0m\u001b[0;34m\"The gradient is -1.5\"\u001b[0m\u001b[0;34m)\u001b[0m\u001b[0;34m\u001b[0m\u001b[0m\n\u001b[1;32m      2\u001b[0m \u001b[0mx\u001b[0m \u001b[0;34m=\u001b[0m \u001b[0mnp\u001b[0m\u001b[0;34m.\u001b[0m\u001b[0mlinspace\u001b[0m\u001b[0;34m(\u001b[0m\u001b[0;34m-\u001b[0m\u001b[0;36m5\u001b[0m\u001b[0;34m,\u001b[0m \u001b[0;36m5\u001b[0m\u001b[0;34m,\u001b[0m \u001b[0;36m20\u001b[0m\u001b[0;34m)\u001b[0m \u001b[0;31m#draw the graph by the 20 values from -5 to 5.\u001b[0m\u001b[0;34m\u001b[0m\u001b[0m\n\u001b[0;32m----> 3\u001b[0;31m \u001b[0my\u001b[0m \u001b[0;34m=\u001b[0m \u001b[0m_______________\u001b[0m\u001b[0;34m\u001b[0m\u001b[0m\n\u001b[0m\u001b[1;32m      4\u001b[0m \u001b[0;34m\u001b[0m\u001b[0m\n\u001b[1;32m      5\u001b[0m \u001b[0mp\u001b[0m \u001b[0;34m=\u001b[0m \u001b[0mfigure\u001b[0m\u001b[0;34m(\u001b[0m\u001b[0;34m)\u001b[0m\u001b[0;34m\u001b[0m\u001b[0m\n",
      "\u001b[0;31mNameError\u001b[0m: name '_______________' is not defined"
     ]
    }
   ],
   "source": [
    "print(\"The gradient is -1.5\")\n",
    "x = np.linspace(-5, 5, 20) #draw the graph by the 20 values from -5 to 5.\n",
    "y = _______________\n",
    "\n",
    "p = figure()\n",
    "p.line(x, y,color=\"blue\", line_width=3, line_alpha=0.6)    \n",
    "show(p)\n",
    "\n",
    "\n"
   ]
  },
  {
   "cell_type": "markdown",
   "metadata": {},
   "source": [
    "##### 3.4 What is the gradient of the line passing (0,1) and (3,0)? Draw it.\n",
    "(Fill in the BLANK in the code to get the result)"
   ]
  },
  {
   "cell_type": "code",
   "execution_count": 126,
   "metadata": {},
   "outputs": [
    {
     "ename": "NameError",
     "evalue": "name 'BLANK' is not defined",
     "output_type": "error",
     "traceback": [
      "\u001b[0;31m---------------------------------------------------------------------------\u001b[0m",
      "\u001b[0;31mNameError\u001b[0m                                 Traceback (most recent call last)",
      "\u001b[0;32m<ipython-input-126-2c00826c2f7d>\u001b[0m in \u001b[0;36m<module>\u001b[0;34m()\u001b[0m\n\u001b[0;32m----> 1\u001b[0;31m \u001b[0;34m(\u001b[0m\u001b[0mk\u001b[0m\u001b[0;34m,\u001b[0m \u001b[0mb\u001b[0m\u001b[0;34m)\u001b[0m \u001b[0;34m=\u001b[0m \u001b[0mk_b_calculator\u001b[0m\u001b[0;34m(\u001b[0m\u001b[0;34m(\u001b[0m\u001b[0;36m0\u001b[0m\u001b[0;34m,\u001b[0m\u001b[0;36m1\u001b[0m\u001b[0;34m)\u001b[0m\u001b[0;34m,\u001b[0m \u001b[0mBLANK\u001b[0m\u001b[0;34m)\u001b[0m\u001b[0;34m\u001b[0m\u001b[0m\n\u001b[0m\u001b[1;32m      2\u001b[0m \u001b[0mx\u001b[0m \u001b[0;34m=\u001b[0m \u001b[0mnp\u001b[0m\u001b[0;34m.\u001b[0m\u001b[0mlinspace\u001b[0m\u001b[0;34m(\u001b[0m\u001b[0;34m-\u001b[0m\u001b[0;36m5\u001b[0m\u001b[0;34m,\u001b[0m \u001b[0;36m5\u001b[0m\u001b[0;34m,\u001b[0m \u001b[0;36m20\u001b[0m\u001b[0;34m)\u001b[0m \u001b[0;31m#draw the graph by the 20 values from -5 to 5.\u001b[0m\u001b[0;34m\u001b[0m\u001b[0m\n\u001b[1;32m      3\u001b[0m \u001b[0my\u001b[0m \u001b[0;34m=\u001b[0m \u001b[0m_____________\u001b[0m\u001b[0;34m\u001b[0m\u001b[0m\n\u001b[1;32m      4\u001b[0m \u001b[0mp\u001b[0m \u001b[0;34m=\u001b[0m \u001b[0mfigure\u001b[0m\u001b[0;34m(\u001b[0m\u001b[0;34m)\u001b[0m\u001b[0;34m\u001b[0m\u001b[0m\n\u001b[1;32m      5\u001b[0m \u001b[0mp\u001b[0m\u001b[0;34m.\u001b[0m\u001b[0mline\u001b[0m\u001b[0;34m(\u001b[0m\u001b[0mx\u001b[0m\u001b[0;34m,\u001b[0m \u001b[0my\u001b[0m\u001b[0;34m,\u001b[0m\u001b[0mcolor\u001b[0m\u001b[0;34m=\u001b[0m\u001b[0;34m\"blue\"\u001b[0m\u001b[0;34m,\u001b[0m \u001b[0mline_width\u001b[0m\u001b[0;34m=\u001b[0m\u001b[0;36m3\u001b[0m\u001b[0;34m,\u001b[0m \u001b[0mline_alpha\u001b[0m\u001b[0;34m=\u001b[0m\u001b[0;36m0.6\u001b[0m\u001b[0;34m)\u001b[0m\u001b[0;34m\u001b[0m\u001b[0m\n",
      "\u001b[0;31mNameError\u001b[0m: name 'BLANK' is not defined"
     ]
    }
   ],
   "source": [
    "(k, b) = k_b_calculator((0,1), BLANK)\n",
    "x = np.linspace(-5, 5, 20) #draw the graph by the 20 values from -5 to 5.\n",
    "y = _____________\n",
    "p = figure()\n",
    "p.line(x, y,color=\"blue\", line_width=3, line_alpha=0.6)    \n",
    "show(p)\n",
    "                                                                    "
   ]
  },
  {
   "cell_type": "markdown",
   "metadata": {},
   "source": [
    "##### 3.5 What if $k1\\times k2=-1$? Draw and see\n",
    "(Fill in the BLANK in the code to get the result)"
   ]
  },
  {
   "cell_type": "code",
   "execution_count": 127,
   "metadata": {},
   "outputs": [
    {
     "ename": "NameError",
     "evalue": "name '______' is not defined",
     "output_type": "error",
     "traceback": [
      "\u001b[0;31m---------------------------------------------------------------------------\u001b[0m",
      "\u001b[0;31mNameError\u001b[0m                                 Traceback (most recent call last)",
      "\u001b[0;32m<ipython-input-127-bd7c9674dbde>\u001b[0m in \u001b[0;36m<module>\u001b[0;34m()\u001b[0m\n\u001b[1;32m      3\u001b[0m \u001b[0mx1\u001b[0m \u001b[0;34m=\u001b[0m \u001b[0mnp\u001b[0m\u001b[0;34m.\u001b[0m\u001b[0mlinspace\u001b[0m\u001b[0;34m(\u001b[0m\u001b[0;34m-\u001b[0m\u001b[0;36m5\u001b[0m\u001b[0;34m,\u001b[0m \u001b[0;36m5\u001b[0m\u001b[0;34m,\u001b[0m \u001b[0;36m20\u001b[0m\u001b[0;34m)\u001b[0m \u001b[0;31m#draw the graph by the 20 values from -5 to 5.\u001b[0m\u001b[0;34m\u001b[0m\u001b[0m\n\u001b[1;32m      4\u001b[0m \u001b[0mx2\u001b[0m \u001b[0;34m=\u001b[0m \u001b[0mnp\u001b[0m\u001b[0;34m.\u001b[0m\u001b[0mlinspace\u001b[0m\u001b[0;34m(\u001b[0m\u001b[0;34m-\u001b[0m\u001b[0;36m5\u001b[0m\u001b[0;34m,\u001b[0m \u001b[0;36m5\u001b[0m\u001b[0;34m,\u001b[0m \u001b[0;36m20\u001b[0m\u001b[0;34m)\u001b[0m \u001b[0;31m#draw the graph by the 20 values from -5 to 5.\u001b[0m\u001b[0;34m\u001b[0m\u001b[0m\n\u001b[0;32m----> 5\u001b[0;31m \u001b[0mk1\u001b[0m \u001b[0;34m=\u001b[0m \u001b[0m______\u001b[0m\u001b[0;34m\u001b[0m\u001b[0m\n\u001b[0m\u001b[1;32m      6\u001b[0m \u001b[0mk2\u001b[0m \u001b[0;34m=\u001b[0m \u001b[0m______\u001b[0m\u001b[0;34m\u001b[0m\u001b[0m\n\u001b[1;32m      7\u001b[0m \u001b[0my1\u001b[0m \u001b[0;34m=\u001b[0m \u001b[0m______\u001b[0m\u001b[0;34m\u001b[0m\u001b[0m\n",
      "\u001b[0;31mNameError\u001b[0m: name '______' is not defined"
     ]
    }
   ],
   "source": [
    "x1 = np.linspace(-5, 5, 20) #draw the graph by the 20 values from -5 to 5.\n",
    "x2 = np.linspace(-5, 5, 20) #draw the graph by the 20 values from -5 to 5.\n",
    "k1 = ______\n",
    "k2 = ______\n",
    "y1 = ______\n",
    "y2 = ______\n",
    "\n",
    "p = figure()\n",
    "p.line(x1, y1,color=\"blue\", line_width=3, line_alpha=0.6)    \n",
    "p.line(x2, y2,color=\"red\", line_width=3, line_alpha=0.6) \n",
    "show(p)\n",
    "\n",
    "print(\"They are perpendicular!\")"
   ]
  },
  {
   "cell_type": "markdown",
   "metadata": {},
   "source": [
    "## 4 Advanced Topics\n",
    "### 4.1 Gradient of non-linear function\n",
    "\n",
    "We often deal with more complicated functions instead of the simplest linear case. How can we calculate the gradient of non-linear functions? We will discuss them in the following sections."
   ]
  },
  {
   "cell_type": "markdown",
   "metadata": {},
   "source": [
    "### 4.2 Examples "
   ]
  },
  {
   "cell_type": "markdown",
   "metadata": {},
   "source": [
    "Two non-linear functions, $x^2$ and $log(x)$ are plotted in the figure below."
   ]
  },
  {
   "cell_type": "code",
   "execution_count": 128,
   "metadata": {},
   "outputs": [
    {
     "data": {
      "text/html": [
       "\n",
       "<div class=\"bk-root\">\n",
       "    <div class=\"bk-plotdiv\" id=\"6ede9af9-dced-49f9-ba66-0c5e94fcfddf\"></div>\n",
       "</div>"
      ]
     },
     "metadata": {},
     "output_type": "display_data"
    },
    {
     "data": {
      "application/javascript": [
       "(function(root) {\n",
       "  function embed_document(root) {\n",
       "    \n",
       "  var docs_json = {\"a1dd3e32-9db7-40b8-bca2-6e35332e6bd3\":{\"roots\":{\"references\":[{\"attributes\":{\"dimension\":1,\"plot\":{\"id\":\"a8105410-62b1-407c-a35e-fe7a3a10c92b\",\"subtype\":\"Figure\",\"type\":\"Plot\"},\"ticker\":{\"id\":\"70932255-3b2e-4086-b397-6195d3817bb3\",\"type\":\"BasicTicker\"}},\"id\":\"51cb43d9-621c-4dca-bc3a-d3dabcbc72cf\",\"type\":\"Grid\"},{\"attributes\":{\"line_alpha\":0.1,\"line_color\":\"#1f77b4\",\"line_width\":3,\"x\":{\"field\":\"x\"},\"y\":{\"field\":\"y\"}},\"id\":\"eb98ae87-e5f3-4610-9ec6-30358ede3082\",\"type\":\"Line\"},{\"attributes\":{},\"id\":\"63ca83a7-7e76-4f2c-a4ec-4878b77e3696\",\"type\":\"BasicTickFormatter\"},{\"attributes\":{},\"id\":\"7e0d2d40-fc67-4a8e-aa01-a4cb06420185\",\"type\":\"PanTool\"},{\"attributes\":{\"formatter\":{\"id\":\"63ca83a7-7e76-4f2c-a4ec-4878b77e3696\",\"type\":\"BasicTickFormatter\"},\"plot\":{\"id\":\"a8105410-62b1-407c-a35e-fe7a3a10c92b\",\"subtype\":\"Figure\",\"type\":\"Plot\"},\"ticker\":{\"id\":\"52655bd2-7fd3-47f1-84ab-fe510dadd3a7\",\"type\":\"BasicTicker\"}},\"id\":\"a84cfec0-af80-4907-91f7-8cc78800b1c6\",\"type\":\"LinearAxis\"},{\"attributes\":{},\"id\":\"52655bd2-7fd3-47f1-84ab-fe510dadd3a7\",\"type\":\"BasicTicker\"},{\"attributes\":{},\"id\":\"70932255-3b2e-4086-b397-6195d3817bb3\",\"type\":\"BasicTicker\"},{\"attributes\":{\"formatter\":{\"id\":\"4ce2bb33-f231-4d41-8e3b-30f18fe8a808\",\"type\":\"BasicTickFormatter\"},\"plot\":{\"id\":\"a8105410-62b1-407c-a35e-fe7a3a10c92b\",\"subtype\":\"Figure\",\"type\":\"Plot\"},\"ticker\":{\"id\":\"70932255-3b2e-4086-b397-6195d3817bb3\",\"type\":\"BasicTicker\"}},\"id\":\"77c1b02c-361e-44b4-ae17-bcab5a4cc780\",\"type\":\"LinearAxis\"},{\"attributes\":{},\"id\":\"4ce2bb33-f231-4d41-8e3b-30f18fe8a808\",\"type\":\"BasicTickFormatter\"},{\"attributes\":{\"plot\":{\"id\":\"a8105410-62b1-407c-a35e-fe7a3a10c92b\",\"subtype\":\"Figure\",\"type\":\"Plot\"},\"ticker\":{\"id\":\"52655bd2-7fd3-47f1-84ab-fe510dadd3a7\",\"type\":\"BasicTicker\"}},\"id\":\"6131e920-5bf7-418b-ba2b-4bab264957ce\",\"type\":\"Grid\"},{\"attributes\":{},\"id\":\"bdcd53c6-e6d4-493a-823c-f73db0fd962b\",\"type\":\"LinearScale\"},{\"attributes\":{},\"id\":\"2d02beeb-3531-4186-a3d1-022003f18a8f\",\"type\":\"LinearScale\"},{\"attributes\":{\"line_alpha\":0.6,\"line_color\":\"blue\",\"line_width\":3,\"x\":{\"field\":\"x\"},\"y\":{\"field\":\"y\"}},\"id\":\"79e7f6f2-280e-44fb-9371-2034eaab753a\",\"type\":\"Line\"},{\"attributes\":{\"data_source\":{\"id\":\"0d53a9e9-eaf1-4aee-bf0e-abb1d391843a\",\"type\":\"ColumnDataSource\"},\"glyph\":{\"id\":\"79e7f6f2-280e-44fb-9371-2034eaab753a\",\"type\":\"Line\"},\"hover_glyph\":null,\"muted_glyph\":null,\"nonselection_glyph\":{\"id\":\"eb98ae87-e5f3-4610-9ec6-30358ede3082\",\"type\":\"Line\"},\"selection_glyph\":null,\"view\":{\"id\":\"4bc077e0-83d4-4cab-b2d5-f9ddab8b9519\",\"type\":\"CDSView\"}},\"id\":\"1e6d0c7e-14d9-4cf9-aad6-d27274c38c08\",\"type\":\"GlyphRenderer\"},{\"attributes\":{\"source\":{\"id\":\"0d53a9e9-eaf1-4aee-bf0e-abb1d391843a\",\"type\":\"ColumnDataSource\"}},\"id\":\"4bc077e0-83d4-4cab-b2d5-f9ddab8b9519\",\"type\":\"CDSView\"},{\"attributes\":{\"callback\":null,\"end\":8,\"start\":-2},\"id\":\"84cca316-11de-4f29-b362-ed764806ec29\",\"type\":\"Range1d\"},{\"attributes\":{\"below\":[{\"id\":\"a84cfec0-af80-4907-91f7-8cc78800b1c6\",\"type\":\"LinearAxis\"}],\"left\":[{\"id\":\"77c1b02c-361e-44b4-ae17-bcab5a4cc780\",\"type\":\"LinearAxis\"}],\"plot_height\":400,\"plot_width\":400,\"renderers\":[{\"id\":\"a84cfec0-af80-4907-91f7-8cc78800b1c6\",\"type\":\"LinearAxis\"},{\"id\":\"6131e920-5bf7-418b-ba2b-4bab264957ce\",\"type\":\"Grid\"},{\"id\":\"77c1b02c-361e-44b4-ae17-bcab5a4cc780\",\"type\":\"LinearAxis\"},{\"id\":\"51cb43d9-621c-4dca-bc3a-d3dabcbc72cf\",\"type\":\"Grid\"},{\"id\":\"70bcadef-0d50-4ebd-8144-d1902c1f0200\",\"type\":\"Legend\"},{\"id\":\"1e6d0c7e-14d9-4cf9-aad6-d27274c38c08\",\"type\":\"GlyphRenderer\"},{\"id\":\"6871c24f-f77b-4878-8329-d32ccfa1de84\",\"type\":\"GlyphRenderer\"}],\"title\":{\"id\":\"29bca7e5-e649-4576-9e0e-a888ccb0d0d3\",\"type\":\"Title\"},\"toolbar\":{\"id\":\"d18eca19-e2a3-4929-a94c-99a7f58bc36e\",\"type\":\"Toolbar\"},\"x_range\":{\"id\":\"667c5297-0570-46d8-b928-b8d68eebd259\",\"type\":\"Range1d\"},\"x_scale\":{\"id\":\"bdcd53c6-e6d4-493a-823c-f73db0fd962b\",\"type\":\"LinearScale\"},\"y_range\":{\"id\":\"84cca316-11de-4f29-b362-ed764806ec29\",\"type\":\"Range1d\"},\"y_scale\":{\"id\":\"2d02beeb-3531-4186-a3d1-022003f18a8f\",\"type\":\"LinearScale\"}},\"id\":\"a8105410-62b1-407c-a35e-fe7a3a10c92b\",\"subtype\":\"Figure\",\"type\":\"Plot\"},{\"attributes\":{\"active_drag\":\"auto\",\"active_inspect\":\"auto\",\"active_scroll\":\"auto\",\"active_tap\":\"auto\",\"tools\":[{\"id\":\"cdab3ac5-6651-4e87-b023-a53392f2c332\",\"type\":\"CrosshairTool\"},{\"id\":\"7e0d2d40-fc67-4a8e-aa01-a4cb06420185\",\"type\":\"PanTool\"},{\"id\":\"88caad99-2508-463a-9980-de33a3c6c0c0\",\"type\":\"ResetTool\"},{\"id\":\"4f5edd64-88e3-430d-85bb-2e70365b0903\",\"type\":\"SaveTool\"},{\"id\":\"9751150b-8dbb-4c3a-a6fe-654130e13e6a\",\"type\":\"WheelZoomTool\"}]},\"id\":\"d18eca19-e2a3-4929-a94c-99a7f58bc36e\",\"type\":\"Toolbar\"},{\"attributes\":{},\"id\":\"074ea3bf-17c7-4e75-b0ba-e8dabdbed737\",\"type\":\"Selection\"},{\"attributes\":{\"callback\":null,\"end\":5},\"id\":\"667c5297-0570-46d8-b928-b8d68eebd259\",\"type\":\"Range1d\"},{\"attributes\":{\"source\":{\"id\":\"0d53a9e9-eaf1-4aee-bf0e-abb1d391843a\",\"type\":\"ColumnDataSource\"}},\"id\":\"4e7eb3c5-f28f-48e4-811c-ee4f254be639\",\"type\":\"CDSView\"},{\"attributes\":{\"label\":{\"value\":\"log(x)\"},\"renderers\":[{\"id\":\"6871c24f-f77b-4878-8329-d32ccfa1de84\",\"type\":\"GlyphRenderer\"}]},\"id\":\"7f3f945a-297b-405a-a57e-3438d8563405\",\"type\":\"LegendItem\"},{\"attributes\":{},\"id\":\"4f5edd64-88e3-430d-85bb-2e70365b0903\",\"type\":\"SaveTool\"},{\"attributes\":{\"callback\":null,\"data\":{\"x\":{\"__ndarray__\":\"mpmZmZmZuT+amZmZmZnJPzQzMzMzM9M/mpmZmZmZ2T8AAAAAAADgPzMzMzMzM+M/Z2ZmZmZm5j+amZmZmZnpP83MzMzMzOw/AAAAAAAA8D+amZmZmZnxPzQzMzMzM/M/zszMzMzM9D9nZmZmZmb2PwEAAAAAAPg/mpmZmZmZ+T80MzMzMzP7P87MzMzMzPw/Z2ZmZmZm/j8AAAAAAAAAQM3MzMzMzABAmpmZmZmZAUBnZmZmZmYCQDQzMzMzMwNAAQAAAAAABEDNzMzMzMwEQJqZmZmZmQVAZ2ZmZmZmBkA0MzMzMzMHQAEAAAAAAAhAzczMzMzMCECamZmZmZkJQGdmZmZmZgpANDMzMzMzC0ABAAAAAAAMQM3MzMzMzAxAmpmZmZmZDUBnZmZmZmYOQDQzMzMzMw9AAAAAAAAAEEBmZmZmZmYQQM3MzMzMzBBAMzMzMzMzEUCZmZmZmZkRQAAAAAAAABJAZmZmZmZmEkDNzMzMzMwSQDMzMzMzMxNAmpmZmZmZE0AAAAAAAAAUQA==\",\"dtype\":\"float64\",\"shape\":[50]},\"y\":{\"__ndarray__\":\"fBSuR+F6hD98FK5H4XqkPwzXo3A9Crc/fBSuR+F6xD8AAAAAAADQPwrXo3A9Ctc/Xo/C9Shc3z98FK5H4XrkP+xRuB6F6+k/AAAAAAAA8D9dj8L1KFzzPwzXo3A9Cvc/DdejcD0K+z9ej8L1KFz/PwIAAAAAAAJAfBSuR+F6BEAghetRuB4HQO5RuB6F6wlA4noUrkfhDEAAAAAAAAAQQKRwPQrXoxFAXY/C9ShcE0AqXI/C9SgVQAzXo3A9ChdAAwAAAAAAGUAL16NwPQobQCpcj8L1KB1AXo/C9ShcH0BTuB6F69EgQAIAAAAAACJAuR6F61E4I0B8FK5H4XokQEnhehSuxyVAIIXrUbgeJ0ACAAAAAIAoQOxRuB6F6ylA4noUrkdhK0DiehSuR+EsQO1RuB6Fay5AAAAAAAAAMECPwvUoXM8wQKRwPQrXozFAPQrXo3B9MkBbj8L1KFwzQAAAAAAAQDRAKFyPwvUoNUDYo3A9Chc2QArXo3A9CjdAxPUoXI8COEAAAAAAAAA5QA==\",\"dtype\":\"float64\",\"shape\":[50]},\"y1\":{\"__ndarray__\":\"FVW1u7FrAsAzje33QcD5vyCnvfx4Q/O/d+Dg8EBS7b/vOfr+Qi7mv1IUgfquWOC/TT/hJMPT1r8gmprH94/Mv1xBCiHo+Lq/AAAAAAAAAADMRjx5P2a4P3yW5BFQVsc/4Lnhe5PK0D+RNBPZwojVP0+Yv+wj89k/zyYnGooU3j+SqRQZ6PrgP8Xx2Polz+I/XHg9KRGK5D/vOfr+Qi7mP25m6WLzvec/ycIh7go76T9re3EIMafqP45fcwPXA+w/eeDg8EBS7T/dFuu8jJPuP+q9OPG3yO8/HOrBNVJ58D8TUjEgDgnxPwsDrXrqk/E/iay3GTka8j+r5gYGRJzyP3fHQHJOGvM/wXEHjJWU8z9gPbUuUQv0P9mV6Xy0fvQ/UOUKZe7u9D8m2RsUKlz1P4JxpVmPxvU/7zn6/kIu9j9wrrITZ5P2Py/Q8TAb9vY/9y2/tHxW9z9b/o32prT3Px7p3HWzEPg/rNq1A7pq+D9CN7fn0ML4P77MNgENGfk/hAr65IFt+T8zje33QcD5Pw==\",\"dtype\":\"float64\",\"shape\":[50]}},\"selected\":{\"id\":\"074ea3bf-17c7-4e75-b0ba-e8dabdbed737\",\"type\":\"Selection\"},\"selection_policy\":{\"id\":\"b0f39087-511c-419e-95df-0c9e5be88431\",\"type\":\"UnionRenderers\"}},\"id\":\"0d53a9e9-eaf1-4aee-bf0e-abb1d391843a\",\"type\":\"ColumnDataSource\"},{\"attributes\":{\"line_alpha\":0.6,\"line_color\":\"red\",\"line_width\":3,\"x\":{\"field\":\"x\"},\"y\":{\"field\":\"y1\"}},\"id\":\"d35e3d18-9962-49fc-b74b-c1f73376d03d\",\"type\":\"Line\"},{\"attributes\":{\"line_alpha\":0.1,\"line_color\":\"#1f77b4\",\"line_width\":3,\"x\":{\"field\":\"x\"},\"y\":{\"field\":\"y1\"}},\"id\":\"1f8e9839-9739-4de0-bec0-7b90f278172f\",\"type\":\"Line\"},{\"attributes\":{\"data_source\":{\"id\":\"0d53a9e9-eaf1-4aee-bf0e-abb1d391843a\",\"type\":\"ColumnDataSource\"},\"glyph\":{\"id\":\"d35e3d18-9962-49fc-b74b-c1f73376d03d\",\"type\":\"Line\"},\"hover_glyph\":null,\"muted_glyph\":null,\"nonselection_glyph\":{\"id\":\"1f8e9839-9739-4de0-bec0-7b90f278172f\",\"type\":\"Line\"},\"selection_glyph\":null,\"view\":{\"id\":\"4e7eb3c5-f28f-48e4-811c-ee4f254be639\",\"type\":\"CDSView\"}},\"id\":\"6871c24f-f77b-4878-8329-d32ccfa1de84\",\"type\":\"GlyphRenderer\"},{\"attributes\":{},\"id\":\"b0f39087-511c-419e-95df-0c9e5be88431\",\"type\":\"UnionRenderers\"},{\"attributes\":{\"items\":[{\"id\":\"110ca4ee-671e-4199-88c3-c6be0dd17362\",\"type\":\"LegendItem\"},{\"id\":\"7f3f945a-297b-405a-a57e-3438d8563405\",\"type\":\"LegendItem\"}],\"plot\":{\"id\":\"a8105410-62b1-407c-a35e-fe7a3a10c92b\",\"subtype\":\"Figure\",\"type\":\"Plot\"}},\"id\":\"70bcadef-0d50-4ebd-8144-d1902c1f0200\",\"type\":\"Legend\"},{\"attributes\":{\"plot\":null,\"text\":\"Linear Function\"},\"id\":\"29bca7e5-e649-4576-9e0e-a888ccb0d0d3\",\"type\":\"Title\"},{\"attributes\":{\"label\":{\"value\":\"x^2\"},\"renderers\":[{\"id\":\"1e6d0c7e-14d9-4cf9-aad6-d27274c38c08\",\"type\":\"GlyphRenderer\"}]},\"id\":\"110ca4ee-671e-4199-88c3-c6be0dd17362\",\"type\":\"LegendItem\"},{\"attributes\":{},\"id\":\"9751150b-8dbb-4c3a-a6fe-654130e13e6a\",\"type\":\"WheelZoomTool\"},{\"attributes\":{},\"id\":\"cdab3ac5-6651-4e87-b023-a53392f2c332\",\"type\":\"CrosshairTool\"},{\"attributes\":{},\"id\":\"88caad99-2508-463a-9980-de33a3c6c0c0\",\"type\":\"ResetTool\"}],\"root_ids\":[\"a8105410-62b1-407c-a35e-fe7a3a10c92b\"]},\"title\":\"Bokeh Application\",\"version\":\"0.12.16\"}};\n",
       "  var render_items = [{\"docid\":\"a1dd3e32-9db7-40b8-bca2-6e35332e6bd3\",\"elementid\":\"6ede9af9-dced-49f9-ba66-0c5e94fcfddf\",\"modelid\":\"a8105410-62b1-407c-a35e-fe7a3a10c92b\"}];\n",
       "  root.Bokeh.embed.embed_items_notebook(docs_json, render_items);\n",
       "\n",
       "  }\n",
       "  if (root.Bokeh !== undefined) {\n",
       "    embed_document(root);\n",
       "  } else {\n",
       "    var attempts = 0;\n",
       "    var timer = setInterval(function(root) {\n",
       "      if (root.Bokeh !== undefined) {\n",
       "        embed_document(root);\n",
       "        clearInterval(timer);\n",
       "      }\n",
       "      attempts++;\n",
       "      if (attempts > 100) {\n",
       "        console.log(\"Bokeh: ERROR: Unable to run BokehJS code because BokehJS library is missing\")\n",
       "        clearInterval(timer);\n",
       "      }\n",
       "    }, 10, root)\n",
       "  }\n",
       "})(window);"
      ],
      "application/vnd.bokehjs_exec.v0+json": ""
     },
     "metadata": {
      "application/vnd.bokehjs_exec.v0+json": {
       "id": "a8105410-62b1-407c-a35e-fe7a3a10c92b"
      }
     },
     "output_type": "display_data"
    }
   ],
   "source": [
    "# %%HIDE%%\n",
    "x = np.linspace(0.1, 5, 50) #draw the graph by the 20 values from -5 to 5.\n",
    "y = np.square(x)\n",
    "y1 = np.log(x)\n",
    "source = ColumnDataSource(data=dict(x=x,y=y,y1=y1))\n",
    "    \n",
    "plot = figure(plot_height=400, plot_width=400, title=\"Linear Function\",\n",
    "              tools=\"crosshair,pan,reset,save,wheel_zoom\",\n",
    "              x_range=[0, 5], y_range=[-2, 8])\n",
    "    \n",
    "plot.line('x', 'y',source=source,color=\"blue\", line_width=3, line_alpha=0.6,legend=\"y=x^2\")\n",
    "plot.line('x', 'y1',source=source,color=\"red\", line_width=3, line_alpha=0.6, legend=\"y=log(x)\")\n",
    "    \n",
    "show(plot)"
   ]
  },
  {
   "cell_type": "markdown",
   "metadata": {},
   "source": [
    "### 4.3 Linear approximation to the curve"
   ]
  },
  {
   "cell_type": "markdown",
   "metadata": {},
   "source": [
    "Function $x^2$ and its linear approximation, determined by two points $(x_i,y_i)$ and $(x_f,y_f)$, are plotted in the following interactive figure. \n",
    "\n",
    "Point $(x_i,y_i)=(1,1)$ is fixed, and point $(x_f,y_f)$ can be changed by pulling the slider. \n",
    "When $x_i$ is sufficiently close to $x_f$, the gradient of $x^2$ at $(x_i,y_i)$ can be well approximated by the slope of the straight line. \n",
    "\n",
    "$$ y(x\\_i)=\\frac{y\\_f-y\\_i}{x\\_f-x\\_i}=\\frac{y(x\\_i+\\Delta x)-y(x\\_i)}{\\Delta x} $$"
   ]
  },
  {
   "cell_type": "code",
   "execution_count": 17,
   "metadata": {},
   "outputs": [
    {
     "data": {
      "text/plain": [
       "<function __main__.update_data(xf=0)>"
      ]
     },
     "execution_count": 17,
     "metadata": {},
     "output_type": "execute_result"
    }
   ],
   "source": [
    "# %%HIDE%%\n",
    "\n",
    "xc = np.linspace(-1, 2, 50) ### x values for curve\n",
    "yc = np.square(xc)\n",
    "\n",
    "## Plot two points of intersection\n",
    "## Initial point, which is fixed. We want to get the gradient at (xi,yi)\n",
    "xi = 1\n",
    "yi = np.square(xi)\n",
    "## Final point, which is movable for liear approximation\n",
    "xf = 0\n",
    "yf = np.square(xf)\n",
    "\n",
    "##The definition of gradient, and  the approximating straight line\n",
    "k=(yf-yi)/(xf-xi)\n",
    "xl = np.linspace(-1, 2, 50) ## x values for line\n",
    "yl = k*(xl-xi)+yi ##y value\n",
    "\n",
    "# Set up plot\n",
    "plot = figure(plot_height=400, plot_width=400, title=\"Gradient\",\n",
    "              x_range=[-1, 3], y_range=[-1, 5])\n",
    "plot.line(xc, yc,color=\"blue\", line_width=3, line_alpha=0.6)\n",
    "r = plot.line(xl, yl,color=\"red\", line_width=3, line_alpha=0.6)\n",
    "point = plot.circle([xf], [yf],fill_color=\"white\", size=8)\n",
    "plot.circle(xi, yi, fill_color=\"white\", size=8)\n",
    "\n",
    "\n",
    "def update_data(xf=0):\n",
    "    yf = np.square(xf)\n",
    "    k = (yf-yi)/(xf-xi)\n",
    "    x = np.linspace(0, 2, 50)\n",
    "    r.data_source.data['y'] = k*(xl-xi)+yi\n",
    "    point.data_source.data['x'] = [xf]\n",
    "    point.data_source.data['y'] = [yf]\n",
    "    push_notebook()\n",
    "\n",
    "show(plot,notebook_handle=True)\n",
    "interact(update_data, xf=(-1,1.9,0.2))"
   ]
  },
  {
   "cell_type": "markdown",
   "metadata": {},
   "source": [
    "### 4.4 Calculate the gradient\n",
    "\n",
    "This code is used to verify the maths equation in the previous slide. Smaller $\\Delta x$ leads to more accurate gradient value.\n"
   ]
  },
  {
   "cell_type": "code",
   "execution_count": 26,
   "metadata": {},
   "outputs": [
    {
     "name": "stdout",
     "output_type": "stream",
     "text": [
      "The gradient for point( 1 , 1 ) is 2.0009999999999177\n"
     ]
    }
   ],
   "source": [
    "x1 = 1 ### Specify one point\n",
    "y1 = np.square(x1)\n",
    "### deltax is the distance between x1 and x2. When delta x is infinitly small, \n",
    "### the gradient of the non-linear function can be well approximated by the slope \n",
    "### of the linear function\n",
    "deltax = 0.001 \n",
    "x2 = x1+deltax\n",
    "y2 = np.square(x2)\n",
    "(k, b) = k_b_calculator((x1,y1), (x2,y2))\n",
    "print('The gradient for point(',x1,',', y1,') is',k)"
   ]
  },
  {
   "cell_type": "markdown",
   "metadata": {},
   "source": [
    "### 4.5 Exercises\n"
   ]
  },
  {
   "cell_type": "markdown",
   "metadata": {},
   "source": [
    "Here is a function, calculate_k, written for you as below. You need to modify the code and make the failed tests in the next slide pass, which means that the correct gradient has been found for function $\\log$"
   ]
  },
  {
   "cell_type": "code",
   "execution_count": 30,
   "metadata": {},
   "outputs": [],
   "source": [
    "def calculate_k(x):  \n",
    "    \n",
    "    x1 = x\n",
    "    y1 = np.log(x1)\n",
    "    deltax = 0.5\n",
    "    x2 = x1+deltax\n",
    "    y2 = np.log(x2)\n",
    "    (k, b) = k_b_calculator((x1,y1), (x2,y2))\n",
    "    return k\n"
   ]
  },
  {
   "cell_type": "markdown",
   "metadata": {},
   "source": [
    "Click the run button to run the test."
   ]
  },
  {
   "cell_type": "code",
   "execution_count": 35,
   "metadata": {},
   "outputs": [
    {
     "name": "stdout",
     "output_type": "stream",
     "text": [
      "Failed. Try smaller deltax values?\n",
      "Failed. Try smaller deltax values?\n",
      "Failed. Try smaller deltax values?\n"
     ]
    }
   ],
   "source": [
    "# %%HIDE%%\n",
    "def testresult(x):\n",
    "    testfunc = 1/x\n",
    "    if (np.abs(calculate_k(x)-testfunc) < 0.1):\n",
    "        print('Well done! You have got the correct gradient!')    \n",
    "    else :\n",
    "        print('Failed. Try smaller deltax values?')\n",
    "        \n",
    "testresult(0.1)\n",
    "testresult(0.3)\n",
    "testresult(1)"
   ]
  },
  {
   "cell_type": "markdown",
   "metadata": {},
   "source": [
    "### 4.6 Analytical solution"
   ]
  },
  {
   "cell_type": "markdown",
   "metadata": {},
   "source": [
    "After you get correct answer, read the testresult code. You can see we use $\\frac{1}{x}$ to check your numerical results. Indeed, just as the gradient k in linear function case, here $\\frac{1}{x}$ is the analytical expression for the non-linear function $log(x)$. You will learn how to calculate the analytical solution in Calculus course. "
   ]
  },
  {
   "cell_type": "code",
   "execution_count": 34,
   "metadata": {},
   "outputs": [
    {
     "data": {
      "text/plain": [
       "<function __main__.update_data(xf=0.15)>"
      ]
     },
     "execution_count": 34,
     "metadata": {},
     "output_type": "execute_result"
    }
   ],
   "source": [
    "# %%HIDE%%\n",
    "\n",
    "xc = np.linspace(0.001, 2, 100) ### x values for curve\n",
    "yc = np.log(xc)\n",
    "\n",
    "## Plot two points of intersection\n",
    "## Initial point, which is fixed. We want to get the gradient at (xi,yi)\n",
    "xi = 0.01\n",
    "\n",
    "yi = np.log(xi)\n",
    "## Final point, which is movable for liear approximation\n",
    "xf = 0.15\n",
    "yf = np.log(xf)\n",
    "\n",
    "##The definition of gradient, and  the approximating straight line\n",
    "k=(yf-yi)/(xf-xi)\n",
    "xl = np.linspace(0.01, 0.5, 50) ## x values for line\n",
    "yl = k*(xl-xi)+yi ##y value\n",
    "\n",
    "# Set up plot\n",
    "plot = figure(plot_height=300, plot_width=300, title=\"Gradient\",\n",
    "              x_range=[-1, 3], y_range=[-10, 10])\n",
    "plot.line(xc, yc,color=\"blue\", line_width=3, line_alpha=0.6)\n",
    "r = plot.line(xl, yl,color=\"red\", line_width=3, line_alpha=0.6)\n",
    "point = plot.circle([xf], [yf],fill_color=\"white\", size=8)\n",
    "plot.circle(xi, yi, fill_color=\"white\", size=8)\n",
    "\n",
    "\n",
    "def update_data(xf=0.15):\n",
    "    yf = np.log(xf)\n",
    "    k = (yf-yi)/(xf-xi)\n",
    "    x = np.linspace(0.01, 2, 50)\n",
    "    r.data_source.data['y'] = k*(xl-xi)+yi\n",
    "    point.data_source.data['x'] = [xf]\n",
    "    point.data_source.data['y'] = [yf]\n",
    "    push_notebook()\n",
    "\n",
    "show(plot,notebook_handle=True)\n",
    "interact(update_data, xf=(0.015,0.3,0.003))\n"
   ]
  },
  {
   "cell_type": "markdown",
   "metadata": {},
   "source": [
    "When $x$ approaches zero, the gradient $\\frac{1}{x}$ tends to infinitly large, and the approximating line becomes almost vertical."
   ]
  },
  {
   "cell_type": "markdown",
   "metadata": {},
   "source": [
    "# End"
   ]
  }
 ],
 "metadata": {
  "kernelspec": {
   "display_name": "Python 3",
   "language": "python",
   "name": "python3"
  },
  "language_info": {
   "codemirror_mode": {
    "name": "ipython",
    "version": 3
   },
   "file_extension": ".py",
   "mimetype": "text/x-python",
   "name": "python",
   "nbconvert_exporter": "python",
   "pygments_lexer": "ipython3",
   "version": "3.6.5"
  }
 },
 "nbformat": 4,
 "nbformat_minor": 2
}
